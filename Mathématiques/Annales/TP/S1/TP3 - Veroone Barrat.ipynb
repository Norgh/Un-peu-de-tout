{
 "cells": [
  {
   "cell_type": "markdown",
   "metadata": {},
   "source": [
    "# TP3 - Boules"
   ]
  },
  {
   "cell_type": "code",
   "execution_count": 8,
   "metadata": {},
   "outputs": [
    {
     "data": {
      "text/plain": [
       "(x, y, z, t, r, U, S, n, total, nbiterations, numerodeladimension)"
      ]
     },
     "execution_count": 8,
     "metadata": {},
     "output_type": "execute_result"
    }
   ],
   "source": [
    "var('x, y, z, t, r, U, S, n, total, nbiterations, numerodeladimension')"
   ]
  },
  {
   "cell_type": "markdown",
   "metadata": {},
   "source": [
    "### Exercice 0"
   ]
  },
  {
   "cell_type": "code",
   "execution_count": 2,
   "metadata": {},
   "outputs": [
    {
     "data": {
      "text/html": [
       "<html><script type=\"math/tex; mode=display\">\\newcommand{\\Bold}[1]{\\mathbf{#1}}\\verb|V0|\\phantom{\\verb!x!}\\verb|=| 1</script></html>"
      ],
      "text/plain": [
       "'V0 = ' 1"
      ]
     },
     "metadata": {},
     "output_type": "display_data"
    },
    {
     "data": {
      "text/html": [
       "<html><script type=\"math/tex; mode=display\">\\newcommand{\\Bold}[1]{\\mathbf{#1}}\\verb|V1|\\phantom{\\verb!x!}\\verb|=| 2</script></html>"
      ],
      "text/plain": [
       "'V1 = ' 2"
      ]
     },
     "metadata": {},
     "output_type": "display_data"
    },
    {
     "data": {
      "text/html": [
       "<html><script type=\"math/tex; mode=display\">\\newcommand{\\Bold}[1]{\\mathbf{#1}}\\verb|V2|\\phantom{\\verb!x!}\\verb|=| \\pi</script></html>"
      ],
      "text/plain": [
       "'V2 = ' pi"
      ]
     },
     "metadata": {},
     "output_type": "display_data"
    },
    {
     "data": {
      "text/html": [
       "<html><script type=\"math/tex; mode=display\">\\newcommand{\\Bold}[1]{\\mathbf{#1}}\\verb|V3|\\phantom{\\verb!x!}\\verb|=| \\frac{4}{3} \\, \\pi</script></html>"
      ],
      "text/plain": [
       "'V3 = ' 4/3*pi"
      ]
     },
     "metadata": {},
     "output_type": "display_data"
    }
   ],
   "source": [
    "show(\"V0 = \", 1)\n",
    "show(\"V1 = \", 2)\n",
    "show(\"V2 = \", pi)\n",
    "show(\"V3 = \", (4 * pi) / 3)"
   ]
  },
  {
   "cell_type": "markdown",
   "metadata": {},
   "source": [
    "### Exercice 1"
   ]
  },
  {
   "cell_type": "markdown",
   "metadata": {},
   "source": [
    "#### a)"
   ]
  },
  {
   "cell_type": "code",
   "execution_count": 3,
   "metadata": {},
   "outputs": [
    {
     "name": "stdout",
     "output_type": "stream",
     "text": [
      "Estimation de V3 à l'aide de la méthode de Monte-Carlo 2D\n"
     ]
    },
    {
     "data": {
      "text/html": [
       "<html><script type=\"math/tex; mode=display\">\\newcommand{\\Bold}[1]{\\mathbf{#1}}4.17</script></html>"
      ],
      "text/plain": [
       "4.17"
      ]
     },
     "metadata": {},
     "output_type": "display_data"
    }
   ],
   "source": [
    "S = 0\n",
    "n = 2000\n",
    "\n",
    "for i in range(1, n): \n",
    "    x = uniform(0,1)\n",
    "    y = uniform(0,1)\n",
    "    if ((x**2 + y**2) <= 1):\n",
    "        S += sqrt(1-(x**2)-(y**2))\n",
    "        \n",
    "print(\"Estimation de V3 à l'aide de la méthode de Monte-Carlo 2D\")\n",
    "show(numerical_approx((8/n)*S, digits=3))"
   ]
  },
  {
   "cell_type": "markdown",
   "metadata": {},
   "source": [
    "#### b) "
   ]
  },
  {
   "cell_type": "code",
   "execution_count": 4,
   "metadata": {},
   "outputs": [
    {
     "name": "stdout",
     "output_type": "stream",
     "text": [
      "Estimation de V3 en générant des points aléatoires dans le disque\n"
     ]
    },
    {
     "data": {
      "text/html": [
       "<html><script type=\"math/tex; mode=display\">\\newcommand{\\Bold}[1]{\\mathbf{#1}}4.16</script></html>"
      ],
      "text/plain": [
       "4.16"
      ]
     },
     "metadata": {},
     "output_type": "display_data"
    }
   ],
   "source": [
    "S = 0\n",
    "n = 2000\n",
    "\n",
    "for i in range(1, n): \n",
    "    r = uniform(0,1)\n",
    "    S += sqrt(1-r)\n",
    "    \n",
    "print(\"Estimation de V3 en générant des points aléatoires dans le disque\")\n",
    "show(numerical_approx(((2*pi)/n)*S, digits=3))"
   ]
  },
  {
   "cell_type": "markdown",
   "metadata": {},
   "source": [
    "### Exercice 2"
   ]
  },
  {
   "cell_type": "markdown",
   "metadata": {},
   "source": [
    "#### a)"
   ]
  },
  {
   "cell_type": "code",
   "execution_count": 5,
   "metadata": {
    "scrolled": true
   },
   "outputs": [
    {
     "name": "stdout",
     "output_type": "stream",
     "text": [
      "Estimation de V4 à l'aide de la méthode de Monte-Carlo 4D\n"
     ]
    },
    {
     "data": {
      "text/html": [
       "<html><script type=\"math/tex; mode=display\">\\newcommand{\\Bold}[1]{\\mathbf{#1}}5.25</script></html>"
      ],
      "text/plain": [
       "5.25"
      ]
     },
     "metadata": {},
     "output_type": "display_data"
    }
   ],
   "source": [
    "S = 0\n",
    "n = 2000\n",
    "\n",
    "for i in range(1, n): \n",
    "    x = uniform(0,1)\n",
    "    y = uniform(0,1)\n",
    "    z = uniform(0,1)\n",
    "    t = uniform(0,1)\n",
    "    if ((x**2 + y**2 + z**2 + t**2) <= 1):\n",
    "        S += 1\n",
    "        \n",
    "print(\"Estimation de V4 à l'aide de la méthode de Monte-Carlo 4D\")\n",
    "show(numerical_approx((1/n)*16*S, digits=3))"
   ]
  },
  {
   "cell_type": "markdown",
   "metadata": {},
   "source": [
    "#### b)"
   ]
  },
  {
   "cell_type": "code",
   "execution_count": 6,
   "metadata": {},
   "outputs": [
    {
     "name": "stdout",
     "output_type": "stream",
     "text": [
      "Estimation de V4 à l'aide de la méthode de Fubini\n"
     ]
    },
    {
     "data": {
      "text/html": [
       "<html><script type=\"math/tex; mode=display\">\\newcommand{\\Bold}[1]{\\mathbf{#1}}4.90</script></html>"
      ],
      "text/plain": [
       "4.90"
      ]
     },
     "metadata": {},
     "output_type": "display_data"
    }
   ],
   "source": [
    "S = 0\n",
    "n = 2000\n",
    "\n",
    "for i in range(1, n): \n",
    "    x = uniform(0,1)\n",
    "    y = uniform(0,1)\n",
    "    z = uniform(0,1)\n",
    "    if ((x**2 + y**2 + z**2) <= 1):\n",
    "        S+= sqrt(1 - (x**2) - (y**2) - (z**2))\n",
    "print(\"Estimation de V4 à l'aide de la méthode de Fubini\")\n",
    "show(numerical_approx(16*S/n, digits = 3))"
   ]
  },
  {
   "cell_type": "markdown",
   "metadata": {},
   "source": [
    "#### c)"
   ]
  },
  {
   "cell_type": "code",
   "execution_count": 7,
   "metadata": {},
   "outputs": [
    {
     "data": {
      "text/html": [
       "<html><script type=\"math/tex; mode=display\">\\newcommand{\\Bold}[1]{\\mathbf{#1}}\\verb|V| 1 \\phantom{\\verb!x!}\\verb|=| 2.00</script></html>"
      ],
      "text/plain": [
       "'V' 1 ' = ' 2.00"
      ]
     },
     "metadata": {},
     "output_type": "display_data"
    },
    {
     "data": {
      "text/html": [
       "<html><script type=\"math/tex; mode=display\">\\newcommand{\\Bold}[1]{\\mathbf{#1}}\\verb|V| 2 \\phantom{\\verb!x!}\\verb|=| 3.15</script></html>"
      ],
      "text/plain": [
       "'V' 2 ' = ' 3.15"
      ]
     },
     "metadata": {},
     "output_type": "display_data"
    },
    {
     "data": {
      "text/html": [
       "<html><script type=\"math/tex; mode=display\">\\newcommand{\\Bold}[1]{\\mathbf{#1}}\\verb|V| 3 \\phantom{\\verb!x!}\\verb|=| 4.15</script></html>"
      ],
      "text/plain": [
       "'V' 3 ' = ' 4.15"
      ]
     },
     "metadata": {},
     "output_type": "display_data"
    },
    {
     "data": {
      "text/html": [
       "<html><script type=\"math/tex; mode=display\">\\newcommand{\\Bold}[1]{\\mathbf{#1}}\\verb|V| 4 \\phantom{\\verb!x!}\\verb|=| 4.91</script></html>"
      ],
      "text/plain": [
       "'V' 4 ' = ' 4.91"
      ]
     },
     "metadata": {},
     "output_type": "display_data"
    },
    {
     "data": {
      "text/html": [
       "<html><script type=\"math/tex; mode=display\">\\newcommand{\\Bold}[1]{\\mathbf{#1}}\\verb|V| 5 \\phantom{\\verb!x!}\\verb|=| 5.34</script></html>"
      ],
      "text/plain": [
       "'V' 5 ' = ' 5.34"
      ]
     },
     "metadata": {},
     "output_type": "display_data"
    },
    {
     "data": {
      "text/html": [
       "<html><script type=\"math/tex; mode=display\">\\newcommand{\\Bold}[1]{\\mathbf{#1}}\\verb|V| 6 \\phantom{\\verb!x!}\\verb|=| 5.14</script></html>"
      ],
      "text/plain": [
       "'V' 6 ' = ' 5.14"
      ]
     },
     "metadata": {},
     "output_type": "display_data"
    },
    {
     "data": {
      "text/html": [
       "<html><script type=\"math/tex; mode=display\">\\newcommand{\\Bold}[1]{\\mathbf{#1}}\\verb|V| 7 \\phantom{\\verb!x!}\\verb|=| 4.67</script></html>"
      ],
      "text/plain": [
       "'V' 7 ' = ' 4.67"
      ]
     },
     "metadata": {},
     "output_type": "display_data"
    },
    {
     "data": {
      "text/html": [
       "<html><script type=\"math/tex; mode=display\">\\newcommand{\\Bold}[1]{\\mathbf{#1}}\\verb|V| 8 \\phantom{\\verb!x!}\\verb|=| 4.01</script></html>"
      ],
      "text/plain": [
       "'V' 8 ' = ' 4.01"
      ]
     },
     "metadata": {},
     "output_type": "display_data"
    },
    {
     "data": {
      "text/html": [
       "<html><script type=\"math/tex; mode=display\">\\newcommand{\\Bold}[1]{\\mathbf{#1}}\\verb|V| 9 \\phantom{\\verb!x!}\\verb|=| 3.51</script></html>"
      ],
      "text/plain": [
       "'V' 9 ' = ' 3.51"
      ]
     },
     "metadata": {},
     "output_type": "display_data"
    },
    {
     "data": {
      "text/html": [
       "<html><script type=\"math/tex; mode=display\">\\newcommand{\\Bold}[1]{\\mathbf{#1}}\\verb|V| 10 \\phantom{\\verb!x!}\\verb|=| 2.30</script></html>"
      ],
      "text/plain": [
       "'V' 10 ' = ' 2.30"
      ]
     },
     "metadata": {},
     "output_type": "display_data"
    }
   ],
   "source": [
    "S = 0\n",
    "nbiterations = 20000\n",
    "nbdimensions = 10\n",
    "\n",
    "\n",
    "for numerodeladimension in range(1, nbdimensions+1):\n",
    "    S = 0\n",
    "    for i in range(1, nbiterations): \n",
    "        total = 0\n",
    "        for j in range(0, numerodeladimension):\n",
    "            x = uniform(0,1)\n",
    "            total += x**2\n",
    "        if (total <= 1):\n",
    "            S += 1\n",
    "    show(\"V\", numerodeladimension, \" = \", numerical_approx((2**numerodeladimension)*S/nbiterations, digits = 3))"
   ]
  },
  {
   "cell_type": "raw",
   "metadata": {
    "scrolled": true
   },
   "source": [
    "Ainsi, on trouve les plus grosses boules en dimension 5"
   ]
  },
  {
   "cell_type": "code",
   "execution_count": null,
   "metadata": {},
   "outputs": [],
   "source": []
  }
 ],
 "metadata": {
  "kernelspec": {
   "display_name": "SageMath 8.9",
   "language": "sage",
   "name": "sagemath"
  },
  "language_info": {
   "codemirror_mode": {
    "name": "ipython",
    "version": 2
   },
   "file_extension": ".py",
   "mimetype": "text/x-python",
   "name": "python",
   "nbconvert_exporter": "python",
   "pygments_lexer": "ipython2",
   "version": "2.7.17"
  }
 },
 "nbformat": 4,
 "nbformat_minor": 2
}
