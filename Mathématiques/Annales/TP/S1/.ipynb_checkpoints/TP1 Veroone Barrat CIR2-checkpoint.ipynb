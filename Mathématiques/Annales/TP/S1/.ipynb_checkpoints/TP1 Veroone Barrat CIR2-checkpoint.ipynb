{
 "cells": [
  {
   "cell_type": "markdown",
   "metadata": {},
   "source": [
    "## Veroone Antonin p64192 / Barrat Nicolas p64007 / CIR² 2019/2020"
   ]
  },
  {
   "cell_type": "markdown",
   "metadata": {},
   "source": [
    "#                                               TP 1 : Convergence"
   ]
  },
  {
   "cell_type": "markdown",
   "metadata": {},
   "source": [
    "### Exercice 1\n",
    "###### a)"
   ]
  },
  {
   "cell_type": "code",
   "execution_count": 8,
   "metadata": {},
   "outputs": [
    {
     "data": {
      "text/html": [
       "<html><script type=\"math/tex; mode=display\">\\newcommand{\\Bold}[1]{\\mathbf{#1}}\\verb|Nombre|\\phantom{\\verb!x!}\\verb|de|\\phantom{\\verb!x!}\\verb|boucle|\\phantom{\\verb!x!}\\verb|a|\\phantom{\\verb!x!}\\verb|effectuer|\\phantom{\\verb!x!}\\verb|pour|\\phantom{\\verb!x!}\\verb|obtenir|\\phantom{\\verb!x!}\\verb|une|\\phantom{\\verb!x!}\\verb|precision|\\phantom{\\verb!x!}\\verb|de|\\phantom{\\verb!x!}\\verb|10^-6|\\phantom{\\verb!x!}\\verb|:| 20</script></html>"
      ],
      "text/plain": [
       "'Nombre de boucle a effectuer pour obtenir une precision de 10^-6 : ' 20"
      ]
     },
     "metadata": {},
     "output_type": "display_data"
    }
   ],
   "source": [
    "n=0\n",
    "while (1/(2^n)) > 10^(-6): #tant que RN > 10^-6\n",
    "    n = n+1\n",
    "show(\"Nombre de boucle a effectuer pour obtenir une precision de 10^-6 : \", n)"
   ]
  },
  {
   "cell_type": "code",
   "execution_count": 10,
   "metadata": {},
   "outputs": [
    {
     "data": {
      "text/html": [
       "<html><script type=\"math/tex; mode=display\">\\newcommand{\\Bold}[1]{\\mathbf{#1}}\\verb|Cette|\\phantom{\\verb!x!}\\verb|somme|\\phantom{\\verb!x!}\\verb|partielle|\\phantom{\\verb!x!}\\verb|est|\\phantom{\\verb!x!}\\verb|environ|\\phantom{\\verb!x!}\\verb|egale|\\phantom{\\verb!x!}\\verb|a|\\phantom{\\verb!x!}\\verb|:| 1.99999809265137</script></html>"
      ],
      "text/plain": [
       "'Cette somme partielle est environ egale a :' 1.99999809265137"
      ]
     },
     "metadata": {},
     "output_type": "display_data"
    }
   ],
   "source": [
    "Rn = 0\n",
    "\n",
    "for n in range (20):\n",
    "    Rn += 1/(2^n)\n",
    "    \n",
    "show(\"Cette somme partielle est environ egale a :\", numerical_approx(Rn))"
   ]
  },
  {
   "cell_type": "markdown",
   "metadata": {},
   "source": [
    "###### b)"
   ]
  },
  {
   "cell_type": "code",
   "execution_count": 11,
   "metadata": {},
   "outputs": [
    {
     "data": {
      "text/html": [
       "<html><script type=\"math/tex; mode=display\">\\newcommand{\\Bold}[1]{\\mathbf{#1}}\\verb|Cette|\\phantom{\\verb!x!}\\verb|somme|\\phantom{\\verb!x!}\\verb|partielle|\\phantom{\\verb!x!}\\verb|est|\\phantom{\\verb!x!}\\verb|environ|\\phantom{\\verb!x!}\\verb|egale|\\phantom{\\verb!x!}\\verb|a|\\phantom{\\verb!x!}\\verb|:| 1.99999809265137</script></html>"
      ],
      "text/plain": [
       "'Cette somme partielle est environ egale a :' 1.99999809265137"
      ]
     },
     "metadata": {},
     "output_type": "display_data"
    },
    {
     "data": {
      "image/png": "[encoded data removed]",
      "text/plain": [
       "Graphics object consisting of 1 graphics primitive"
      ]
     },
     "execution_count": 11,
     "metadata": {},
     "output_type": "execute_result"
    }
   ],
   "source": [
    "Rn = 0\n",
    "L = []\n",
    "\n",
    "for n in range (20):\n",
    "    Rn += 1/(2^n)\n",
    "    L.append(Rn)\n",
    "    \n",
    "show(\"Cette somme partielle est environ egale a :\", numerical_approx(Rn))\n",
    "list_plot(L, plotjoined = True)"
   ]
  },
  {
   "cell_type": "markdown",
   "metadata": {},
   "source": [
    "### Exercice 2"
   ]
  },
  {
   "cell_type": "code",
   "execution_count": 13,
   "metadata": {},
   "outputs": [
    {
     "data": {
      "text/html": [
       "<html><script type=\"math/tex; mode=display\">\\newcommand{\\Bold}[1]{\\mathbf{#1}}\\verb|Premiere|\\phantom{\\verb!x!}\\verb|valeur|\\phantom{\\verb!x!}\\verb|de|\\phantom{\\verb!x!}\\verb|N|\\phantom{\\verb!x!}\\verb|pour|\\phantom{\\verb!x!}\\verb|laquelle|\\phantom{\\verb!x!}\\verb|RN|\\phantom{\\verb!x!}\\verb|<|\\phantom{\\verb!x!}\\verb|10^-6| 4</script></html>"
      ],
      "text/plain": [
       "'Premiere valeur de N pour laquelle RN < 10^-6' 4"
      ]
     },
     "metadata": {},
     "output_type": "display_data"
    },
    {
     "data": {
      "text/html": [
       "<html><script type=\"math/tex; mode=display\">\\newcommand{\\Bold}[1]{\\mathbf{#1}}\\verb|cos(1)|\\phantom{\\verb!x!}\\verb|=| 0.540302305868140</script></html>"
      ],
      "text/plain": [
       "'cos(1) = ' 0.540302305868140"
      ]
     },
     "metadata": {},
     "output_type": "display_data"
    },
    {
     "data": {
      "text/html": [
       "<html><script type=\"math/tex; mode=display\">\\newcommand{\\Bold}[1]{\\mathbf{#1}}\\verb|Somme|\\phantom{\\verb!x!}\\verb|partielle|\\phantom{\\verb!x!}\\verb|jusqu'a|\\phantom{\\verb!x!}\\verb|N=4|\\phantom{\\verb!x!}\\verb|:| 0.540302579365079</script></html>"
      ],
      "text/plain": [
       "\"Somme partielle jusqu'a N=4 : \" 0.540302579365079"
      ]
     },
     "metadata": {},
     "output_type": "display_data"
    }
   ],
   "source": [
    "n=0\n",
    "Rn=((-1)^0)/(factorial(2*0))\n",
    "while (1/(factorial(2*n+2))) >= 10^(-6): #tant que l'approximation faite sur Rn est inférieure à 10^-6\n",
    "    n = n+1\n",
    "    Rn+=((-1)^n)/(factorial(2*n))\n",
    "\n",
    "show(\"Premiere valeur de N pour laquelle RN < 10^-6\", n)\n",
    "show(\"cos(1) = \", numerical_approx(cos(1.)))\n",
    "show(\"Somme partielle jusqu'a N=4 : \", numerical_approx(Rn))"
   ]
  },
  {
   "cell_type": "code",
   "execution_count": 26,
   "metadata": {},
   "outputs": [
    {
     "data": {
      "text/html": [
       "<html><script type=\"math/tex; mode=display\">\\newcommand{\\Bold}[1]{\\mathbf{#1}}\\verb|Sn|\\phantom{\\verb!x!}\\verb|:| 0.543080632716049</script></html>"
      ],
      "text/plain": [
       "'Sn : ' 0.543080632716049"
      ]
     },
     "metadata": {},
     "output_type": "display_data"
    },
    {
     "data": {
      "text/html": [
       "<html><script type=\"math/tex; mode=display\">\\newcommand{\\Bold}[1]{\\mathbf{#1}}\\verb|cos(1)|\\phantom{\\verb!x!}\\verb|:| 0.540302305868140</script></html>"
      ],
      "text/plain": [
       "'cos(1) : ' 0.540302305868140"
      ]
     },
     "metadata": {},
     "output_type": "display_data"
    }
   ],
   "source": [
    "Rn = 0\n",
    "\n",
    "for n in range (5):\n",
    "    Rn += 1/factorial(2*n + 2)\n",
    "    \n",
    "show(\"Sn : \", numerical_approx(Rn))\n",
    "show(\"cos(1) : \", numerical_approx(cos(1)))"
   ]
  },
  {
   "cell_type": "markdown",
   "metadata": {},
   "source": [
    "### Exercice 3"
   ]
  },
  {
   "cell_type": "code",
   "execution_count": 28,
   "metadata": {},
   "outputs": [
    {
     "data": {
      "text/html": [
       "<html><script type=\"math/tex; mode=display\">\\newcommand{\\Bold}[1]{\\mathbf{#1}}1000000</script></html>"
      ],
      "text/plain": [
       "1000000"
      ]
     },
     "metadata": {},
     "output_type": "display_data"
    },
    {
     "ename": "KeyboardInterrupt",
     "evalue": "",
     "output_type": "error",
     "traceback": [
      "\u001b[0;31m---------------------------------------------------------------------------\u001b[0m",
      "\u001b[0;31mKeyboardInterrupt\u001b[0m                         Traceback (most recent call last)",
      "\u001b[0;32m<ipython-input-28-e0c7c4921c63>\u001b[0m in \u001b[0;36m<module>\u001b[0;34m()\u001b[0m\n\u001b[1;32m      8\u001b[0m \u001b[0;34m\u001b[0m\u001b[0m\n\u001b[1;32m      9\u001b[0m \u001b[0;32mfor\u001b[0m \u001b[0mi\u001b[0m \u001b[0;32min\u001b[0m \u001b[0mrange\u001b[0m \u001b[0;34m(\u001b[0m\u001b[0mInteger\u001b[0m\u001b[0;34m(\u001b[0m\u001b[0;36m1\u001b[0m\u001b[0;34m)\u001b[0m\u001b[0;34m,\u001b[0m\u001b[0mInteger\u001b[0m\u001b[0;34m(\u001b[0m\u001b[0;36m10\u001b[0m\u001b[0;34m)\u001b[0m\u001b[0;34m**\u001b[0m\u001b[0mInteger\u001b[0m\u001b[0;34m(\u001b[0m\u001b[0;36m6\u001b[0m\u001b[0;34m)\u001b[0m\u001b[0;34m)\u001b[0m\u001b[0;34m:\u001b[0m\u001b[0;34m\u001b[0m\u001b[0m\n\u001b[0;32m---> 10\u001b[0;31m     \u001b[0mRn\u001b[0m\u001b[0;34m+=\u001b[0m\u001b[0;34m(\u001b[0m\u001b[0;34m(\u001b[0m\u001b[0;34m-\u001b[0m\u001b[0mInteger\u001b[0m\u001b[0;34m(\u001b[0m\u001b[0;36m1\u001b[0m\u001b[0;34m)\u001b[0m\u001b[0;34m)\u001b[0m\u001b[0;34m**\u001b[0m\u001b[0;34m(\u001b[0m\u001b[0mi\u001b[0m\u001b[0;34m+\u001b[0m\u001b[0mInteger\u001b[0m\u001b[0;34m(\u001b[0m\u001b[0;36m1\u001b[0m\u001b[0;34m)\u001b[0m\u001b[0;34m)\u001b[0m\u001b[0;34m)\u001b[0m\u001b[0;34m/\u001b[0m\u001b[0mi\u001b[0m\u001b[0;34m\u001b[0m\u001b[0m\n\u001b[0m\u001b[1;32m     11\u001b[0m \u001b[0mshow\u001b[0m\u001b[0;34m(\u001b[0m\u001b[0;34m\"Rn :\"\u001b[0m\u001b[0;34m,\u001b[0m \u001b[0mnumerical_approx\u001b[0m\u001b[0;34m(\u001b[0m\u001b[0mRn\u001b[0m\u001b[0;34m)\u001b[0m\u001b[0;34m)\u001b[0m\u001b[0;34m\u001b[0m\u001b[0m\n\u001b[1;32m     12\u001b[0m \u001b[0mshow\u001b[0m\u001b[0;34m(\u001b[0m\u001b[0;34m\"ln(2)\"\u001b[0m\u001b[0;34m,\u001b[0m \u001b[0mln\u001b[0m\u001b[0;34m(\u001b[0m\u001b[0mInteger\u001b[0m\u001b[0;34m(\u001b[0m\u001b[0;36m2\u001b[0m\u001b[0;34m)\u001b[0m\u001b[0;34m)\u001b[0m\u001b[0;34m)\u001b[0m\u001b[0;34m\u001b[0m\u001b[0m\n",
      "\u001b[0;32msrc/cysignals/signals.pyx\u001b[0m in \u001b[0;36mcysignals.signals.python_check_interrupt\u001b[0;34m()\u001b[0m\n",
      "\u001b[0;31mKeyboardInterrupt\u001b[0m: "
     ]
    }
   ],
   "source": [
    "n=1\n",
    "while (1/(n+1) >= 10^(-6)): #tant que l'approximation faite sur Rn est inférieure à 10^-6\n",
    "    n+=1\n",
    "\n",
    "show(\"Premiere valeur de N pour laquelle RN < 10^-6\", n)#\n",
    "\n",
    "Rn=0\n",
    "\n",
    "for i in range (1,10^6):\n",
    "    Rn+=((-1)^(i+1))/i\n",
    "show(\"Rn :\", numerical_approx(Rn))\n",
    "show(\"ln(2)\", ln(2))\n",
    "print(\"Cette valeur est quasiment égale à ln(2)\")"
   ]
  },
  {
   "cell_type": "code",
   "execution_count": 31,
   "metadata": {},
   "outputs": [
    {
     "name": "stdout",
     "output_type": "stream",
     "text": [
      "CPU times: user 4min 12s, sys: 807 ms, total: 4min 12s\n",
      "Wall time: 4min 10s\n"
     ]
    }
   ],
   "source": [
    "%%time\n",
    "Rn=0\n",
    "for i in range (1,10^6):\n",
    "    Rn+=((-1)^(i+1))/i\n",
    "print(\"Temps mis à la cellule pour s'executer :\")"
   ]
  },
  {
   "cell_type": "code",
   "execution_count": 38,
   "metadata": {},
   "outputs": [
    {
     "data": {
      "text/html": [
       "<html><script type=\"math/tex; mode=display\">\\newcommand{\\Bold}[1]{\\mathbf{#1}}3.80517503805175 \\times 10^{56}</script></html>"
      ],
      "text/plain": [
       "3.80517503805175e56"
      ]
     },
     "metadata": {},
     "output_type": "display_data"
    },
    {
     "name": "stdout",
     "output_type": "stream",
     "text": [
      "Si il faut 10^6 fois plus de temps à 10^-12, on a un calcul d'une durée de presque 4ans\n"
     ]
    }
   ],
   "source": [
    "temps=2*10^62\n",
    "show(numerical_approx(temps/(60*24*365)))\n",
    "print(\"Si il faut 10^6 fois plus de temps à 10^-12, on a un calcul d'une durée de presque 4ans\")"
   ]
  },
  {
   "cell_type": "markdown",
   "metadata": {},
   "source": [
    "### Exercice 4"
   ]
  },
  {
   "cell_type": "code",
   "execution_count": 15,
   "metadata": {
    "scrolled": false
   },
   "outputs": [
    {
     "name": "stdout",
     "output_type": "stream",
     "text": [
      "La fonction y est positive et décroissante sur R*+, on peut donc utiliser le critère intégral de Cauchy pour établir l'inégalité de l'énoncé\n",
      "On transforme (1/(α-1))*(1/(N^α-1))<ε pour isoler N\n",
      "On trouve: N>e^-(ln[ε(α-1)])/(α-1)\n"
     ]
    }
   ],
   "source": [
    "print(\"La fonction y est positive et décroissante sur R*+, on peut donc utiliser le critère intégral de Cauchy pour établir l'inégalité de l'énoncé\")\n",
    "print(\"On transforme (1/(α-1))*(1/(N^α-1))<ε pour isoler N\")\n",
    "print(\"On trouve: N>e^-(ln[ε(α-1)])/(α-1)\")"
   ]
  },
  {
   "cell_type": "code",
   "execution_count": 21,
   "metadata": {},
   "outputs": [
    {
     "name": "stdout",
     "output_type": "stream",
     "text": [
      "Mois de naissance: Juin\n"
     ]
    },
    {
     "data": {
      "text/html": [
       "<html><script type=\"math/tex; mode=display\">\\newcommand{\\Bold}[1]{\\mathbf{#1}}\\verb|Estimation|\\phantom{\\verb!x!}\\verb|numerique|\\phantom{\\verb!x!}\\verb|:| 1.34148659053424</script></html>"
      ],
      "text/plain": [
       "'Estimation numerique : ' 1.34148659053424"
      ]
     },
     "metadata": {},
     "output_type": "display_data"
    }
   ],
   "source": [
    "print(\"Mois de naissance: Juin\")\n",
    "Cn=0\n",
    "for n in range (1,10000):\n",
    "    Cn+=1/(n^(5/2))\n",
    "    \n",
    "show(\"Estimation numerique : \" ,numerical_approx(Cn))"
   ]
  }
 ],
 "metadata": {
  "kernelspec": {
   "display_name": "SageMath 9.0",
   "language": "sage",
   "name": "sagemath"
  },
  "language_info": {
   "codemirror_mode": {
    "name": "ipython",
    "version": 3
   },
   "file_extension": ".py",
   "mimetype": "text/x-python",
   "name": "python",
   "nbconvert_exporter": "python",
   "pygments_lexer": "ipython3",
   "version": "3.7.3"
  }
 },
 "nbformat": 4,
 "nbformat_minor": 2
}
