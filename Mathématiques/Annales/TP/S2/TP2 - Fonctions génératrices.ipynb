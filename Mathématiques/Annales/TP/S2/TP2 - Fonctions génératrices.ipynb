{
 "cells": [
  {
   "cell_type": "markdown",
   "metadata": {},
   "source": [
    "## TP2 &ndash; Fonctions génératrices\n",
    "\n",
    "Indiquez vos noms ici:\n",
    "\n",
    "- Veroone Antonin\n",
    "- Barrat Nicolas\n",
    "\n",
    "On peut travailler dans Sage avec des séries de puissances aussi aisément qu'avec des polynômes; il suffit de déclarer notre envie de le faire."
   ]
  },
  {
   "cell_type": "code",
   "execution_count": 1,
   "metadata": {},
   "outputs": [],
   "source": [
    "R.<z> = PowerSeriesRing(QQ)  # anneau des séries entières à coefficients rationnels"
   ]
  },
  {
   "cell_type": "markdown",
   "metadata": {},
   "source": [
    "Dans les faits, on ne travaille jamais avec tous les termes d'une série mais plutôt avec sa troncature à un ordre donné (20 par défaut):"
   ]
  },
  {
   "cell_type": "code",
   "execution_count": 2,
   "metadata": {},
   "outputs": [
    {
     "data": {
      "text/plain": [
       "1 - z + z^2 - z^3 + z^4 - z^5 + z^6 - z^7 + z^8 - z^9 + z^10 - z^11 + z^12 - z^13 + z^14 - z^15 + z^16 - z^17 + z^18 - z^19 + O(z^20)"
      ]
     },
     "execution_count": 2,
     "metadata": {},
     "output_type": "execute_result"
    }
   ],
   "source": [
    "1/(1+z)"
   ]
  },
  {
   "cell_type": "markdown",
   "metadata": {},
   "source": [
    "mais on peut changer celui-ci à la baisse si on le souhaite:"
   ]
  },
  {
   "cell_type": "code",
   "execution_count": 3,
   "metadata": {},
   "outputs": [
    {
     "data": {
      "text/plain": [
       "1 - z + z^2 - z^3 + z^4 + O(z^5)"
      ]
     },
     "execution_count": 3,
     "metadata": {},
     "output_type": "execute_result"
    }
   ],
   "source": [
    "1/(1+z) + O(z^5)"
   ]
  },
  {
   "cell_type": "markdown",
   "metadata": {},
   "source": [
    "ou encore à la hausse (mais pour cela il faut augmenter la précision au niveau de l'anneau)."
   ]
  },
  {
   "cell_type": "code",
   "execution_count": 4,
   "metadata": {},
   "outputs": [
    {
     "data": {
      "text/plain": [
       "1 - z + z^2 - z^3 + z^4 - z^5 + z^6 - z^7 + z^8 - z^9 + z^10 - z^11 + z^12 - z^13 + z^14 - z^15 + z^16 - z^17 + z^18 - z^19 + O(z^20)"
      ]
     },
     "execution_count": 4,
     "metadata": {},
     "output_type": "execute_result"
    }
   ],
   "source": [
    "1/(1+z) + O(z^30)  # ne fait pas ce qu'on pourrait croire"
   ]
  },
  {
   "cell_type": "code",
   "execution_count": 5,
   "metadata": {},
   "outputs": [],
   "source": [
    "R.set_default_prec(30)"
   ]
  },
  {
   "cell_type": "code",
   "execution_count": 6,
   "metadata": {},
   "outputs": [
    {
     "data": {
      "text/plain": [
       "1 - z + z^2 - z^3 + z^4 - z^5 + z^6 - z^7 + z^8 - z^9 + z^10 - z^11 + z^12 - z^13 + z^14 - z^15 + z^16 - z^17 + z^18 - z^19 + z^20 - z^21 + z^22 - z^23 + z^24 - z^25 + z^26 - z^27 + z^28 - z^29 + O(z^30)"
      ]
     },
     "execution_count": 6,
     "metadata": {},
     "output_type": "execute_result"
    }
   ],
   "source": [
    "1/(1+z)  # ok"
   ]
  },
  {
   "cell_type": "markdown",
   "metadata": {},
   "source": [
    "On peut effectuer toutes les opérations arithmétiques de base sur ces séries; et on peut passer d'une liste de coefficient à une série et vice-versa de la façon suivante."
   ]
  },
  {
   "cell_type": "code",
   "execution_count": 7,
   "metadata": {},
   "outputs": [
    {
     "data": {
      "text/plain": [
       "1 + 2*z + 3*z^2 + 4*z^3 + 5*z^4"
      ]
     },
     "execution_count": 7,
     "metadata": {},
     "output_type": "execute_result"
    }
   ],
   "source": [
    "f = R([1,2,3,4,5]); f"
   ]
  },
  {
   "cell_type": "code",
   "execution_count": 8,
   "metadata": {},
   "outputs": [
    {
     "data": {
      "text/plain": [
       "[1, 2, 3, 4, 5]"
      ]
     },
     "execution_count": 8,
     "metadata": {},
     "output_type": "execute_result"
    }
   ],
   "source": [
    "f.padded_list()"
   ]
  },
  {
   "cell_type": "markdown",
   "metadata": {},
   "source": [
    "Notez que la série considérée à l'instant n'est __pas__ tout à fait la transformée en $z$ de la suite $(1,2,3,4,5,0,0,\\ldots)$: pour cela il faudrait plutôt utiliser $x = 1/z$ comme variable.\n",
    "\n",
    "Étant donné une suite $(a_n)_{n\\in\\mathbf{N}}$, on appelle $\\displaystyle f(x) = \\sum_{n=0}^\\infty a_n x^n$ la __fonction génératrice__ de la suite (sans trop se soucier ici des questions de convergence). Sa transformée en $z$ est $f(z^{-1})$ qui a de bonnes propriétés théoriques; pour le calcul numérique (comme ici) il est souvent plus simple de travailler avec $f(x)$.\n",
    "\n",
    "Voici par exemple la fonction génératrice d'une suite célèbre:"
   ]
  },
  {
   "cell_type": "code",
   "execution_count": 9,
   "metadata": {},
   "outputs": [
    {
     "data": {
      "text/plain": [
       "1 + x + 2*x^2 + 3*x^3 + 5*x^4 + 8*x^5 + 13*x^6 + 21*x^7 + 34*x^8 + 55*x^9 + 89*x^10 + 144*x^11 + 233*x^12 + 377*x^13 + 610*x^14 + 987*x^15 + 1597*x^16 + 2584*x^17 + 4181*x^18 + 6765*x^19 + O(x^20)"
      ]
     },
     "execution_count": 9,
     "metadata": {},
     "output_type": "execute_result"
    }
   ],
   "source": [
    "R.<x> = PowerSeriesRing(QQ)\n",
    "\n",
    "F = 1/(1 - x - x^2)  # z^2/(z^2 - z - 1)\n",
    "\n",
    "F"
   ]
  },
  {
   "cell_type": "markdown",
   "metadata": {},
   "source": [
    "## A) Partages\n",
    "\n",
    "À la maison j'ai 42 biscuits et deux garçons: le grand les mange 3 par 3 et le petit 2 par 2. De combien de façons cela peut-on répartir les 42 biscuits en tas de 2 ou de 3 ?\n",
    "\n",
    "Si on formalise la question, il s'agit de compter le nombre de façons d'écrire $42 = 2 a + 3 b$, soit $x^{42} = (x^2)^a (x^3)^b$. Il s'agit donc du coefficient de $x^{42}$ dans l'expression\n",
    "\n",
    "$$ (1 + x^2 + x^4 + x^6 + \\cdots)(1 + x^3 + x^6 + x^9 + \\cdots) = \\sum_{a = 0}^\\infty (x^2)^a \\cdot \\sum_{b = 0}^\\infty (x^3)^b = \\frac{1}{1 - x^2} \\cdot \\frac{1}{1 - x^3}. $$"
   ]
  },
  {
   "cell_type": "code",
   "execution_count": 10,
   "metadata": {},
   "outputs": [
    {
     "data": {
      "text/plain": [
       "8"
      ]
     },
     "execution_count": 10,
     "metadata": {},
     "output_type": "execute_result"
    }
   ],
   "source": [
    "R.set_default_prec(50)\n",
    "\n",
    "( 1/(1-x^2) * 1/(1-x^3) ).padded_list()[42]"
   ]
  },
  {
   "cell_type": "markdown",
   "metadata": {},
   "source": [
    "Il y a donc 8 façons de répartir les biscuits en tas de 2 ou 3; vérifions:"
   ]
  },
  {
   "cell_type": "code",
   "execution_count": 11,
   "metadata": {},
   "outputs": [
    {
     "name": "stdout",
     "output_type": "stream",
     "text": [
      "0 14\n",
      "3 12\n",
      "6 10\n",
      "9 8\n",
      "12 6\n",
      "15 4\n",
      "18 2\n",
      "21 0\n"
     ]
    }
   ],
   "source": [
    "for a in range(22):\n",
    "    if (42 - 2*a) % 3 == 0:\n",
    "        b = (42 - 2*a) / 3\n",
    "        print (a,b)"
   ]
  },
  {
   "cell_type": "markdown",
   "metadata": {},
   "source": [
    "Ce qui est bien c'est que cette méthode se généralise aisément: le nombre de façons de répartir $n$ objets en $k$ tas par paquets de tailles respectives $m_1, \\ldots, m_k$ est le coefficient de $x^n$ dans la fonction génératrice\n",
    "\n",
    "$$ \\prod_{i = 1}^k \\frac{1}{1 - x^{m_k}}. $$\n",
    "\n",
    "__Question 1__. En utilisant cette méthode, déterminer le nombres de façons de répartir $10$ biscuit entre $2$ enfants:\n",
    "\n",
    "a) si on suppose qu'on les distribue tous;\n",
    "\n",
    "b) si on se permet d'en manger quelques-uns.\n",
    "\n",
    "Les réponses vous semblent-elles cohérentes ?"
   ]
  },
  {
   "cell_type": "code",
   "execution_count": 12,
   "metadata": {},
   "outputs": [
    {
     "data": {
      "text/html": [
       "<html><script type=\"math/tex; mode=display\">\\newcommand{\\Bold}[1]{\\mathbf{#1}}-1</script></html>"
      ],
      "text/plain": [
       "-1"
      ]
     },
     "metadata": {},
     "output_type": "display_data"
    }
   ],
   "source": [
    "R.<x> = PowerSeriesRing(QQ)\n",
    "R.set_default_prec(50)\n",
    "\n",
    "def produit (k):\n",
    "    prod = 1\n",
    "    for i in range (2, k+1):\n",
    "        prod = prod * (1 / (1 - i))\n",
    "    return prod\n",
    "\n",
    "show(produit(2))"
   ]
  },
  {
   "cell_type": "markdown",
   "metadata": {},
   "source": [
    "__Question 2__. De combien de façons peut-on rendre 1,47 € en monnaie ?"
   ]
  },
  {
   "cell_type": "code",
   "execution_count": null,
   "metadata": {},
   "outputs": [],
   "source": []
  },
  {
   "cell_type": "markdown",
   "metadata": {},
   "source": [
    "__Question 3__. De combien de façons peut-on écrire $20$ comme la somme d'entiers positifs ? Distinguer selon que l'on tienne compte de l'ordre des termes ou pas."
   ]
  },
  {
   "cell_type": "code",
   "execution_count": null,
   "metadata": {},
   "outputs": [],
   "source": []
  },
  {
   "cell_type": "markdown",
   "metadata": {},
   "source": [
    "## B) Parenthésages balancés\n",
    "\n",
    "On appelle _mot de Dyck_ toute chaîne de caractères ne comportant que des ( et des ) et représentant une expression bien balancée (toute parenthèse ouvrante finira par se refermer un peu plus loin; et on ne peut pas refermer une paire de parenthèses avant de l'avoir ouverte).\n",
    "\n",
    "__Question 1__. Écrire une fonction récursive __dyck($n$)__ renvoyant la liste de tous les mots de Dyck de longueur $2n$ (donc comportant $n$ paires de parenthèses). Donner la liste des 42 mots de Dyck de longueur 10."
   ]
  },
  {
   "cell_type": "code",
   "execution_count": 7,
   "metadata": {},
   "outputs": [
    {
     "name": "stdout",
     "output_type": "stream",
     "text": [
      "['()()()', '()(())', '(())()', '(()())', '((()))']\n"
     ]
    }
   ],
   "source": [
    "def dyck(n):\n",
    "    liste_mot = []\n",
    "    if n == 0:\n",
    "        liste_mot.append(\"\")\n",
    "    else:\n",
    "        for k in range(n):\n",
    "            for w1 in dyck(k):\n",
    "                for w2 in dyck(n - k - 1):\n",
    "                    liste_mot.append('(' + w1 + ')' + w2)\n",
    "    return liste_mot\n",
    "\n",
    "print(dyck(3))"
   ]
  },
  {
   "cell_type": "markdown",
   "metadata": {},
   "source": [
    "__Question 2__. La longueur $C_n$ de la liste renvoyée par __dyck($n$)__ satisfait l'équation de récurrence\n",
    "\n",
    "$$ C_{n+1} = \\sum_{k=0}^n C_k C_{n-k}. $$\n",
    "\n",
    "Utiliser celle-ci pour obtenir les valeurs de $C_n$ pour $n \\in [\\![ 0, 100 ] \\! ]$ afin d'observer graphiquement l'allure des premiers termes de la suite."
   ]
  },
  {
   "cell_type": "code",
   "execution_count": 19,
   "metadata": {},
   "outputs": [],
   "source": [
    "def len_nb_mots_dyck(nbmax):\n",
    "    liste_nb_mots = []\n",
    "    for n in range(0, nbmax+1):\n",
    "        len_reccur(n, liste_nb_mots)\n",
    "    return liste_nb_mots\n",
    "\n",
    "def len_reccur(n, liste_nb_mots):\n",
    "    if n <= 1:\n",
    "        S = 1\n",
    "    else:\n",
    "        S = 0\n",
    "        for k in range(n):\n",
    "            S += liste_nb_mots[k] * liste_nb_mots[n-k-1]\n",
    "    liste_nb_mots.append(S)\n",
    "    return S\n",
    "\n",
    "# Affiche les 101 premières valeurs\n",
    "#print(len_nb_mots_dyck(100))\n",
    "\n",
    "# Affiche le graphe permettant de voir la vitesse de croissance du nombre de possibilités\n",
    "#list_plot(len_nb_mots_dyck(100), plotjoined=true)"
   ]
  },
  {
   "cell_type": "markdown",
   "metadata": {},
   "source": [
    "__Question 3__. Confirmer vos valeurs trouvées à la question précédente avec les 101 premiers coefficients de la fonction génératrice\n",
    "\n",
    "$$ C(x) = \\sum_{n=0}^\\infty C_n x^n = \\frac{1 - \\sqrt{1 - 4x}}{2x}. $$"
   ]
  },
  {
   "cell_type": "code",
   "execution_count": 18,
   "metadata": {},
   "outputs": [
    {
     "name": "stdout",
     "output_type": "stream",
     "text": [
      "Est ce que les 101 premières valeurs trouvés à la question précédente sont les mêmes que celles de la fonction génératrice ? \n",
      "Oui\n"
     ]
    }
   ],
   "source": [
    "R.<x> = PowerSeriesRing(QQ)\n",
    "R.set_default_prec(102)\n",
    "# Affiche les 101 premières valeurs si souhaité\n",
    "# print(((1 - sqrt(1 - 4 * x)) / (2 * x)).padded_list())\n",
    "\n",
    "# Confirmesi les valeurs trouvés à la question précédente sont les bonnes \n",
    "print(\"Est ce que les 101 premières valeurs trouvés à la question précédente sont les mêmes que celles de la fonction génératrice ? \")\n",
    "print(\"Oui\" if (len_nb_mots_dyck(100) == ((1 - sqrt(1 - 4 * x)) / (2 * x)).padded_list()) else \"Non\")"
   ]
  },
  {
   "cell_type": "code",
   "execution_count": null,
   "metadata": {},
   "outputs": [],
   "source": []
  }
 ],
 "metadata": {
  "kernelspec": {
   "display_name": "SageMath 9.0",
   "language": "sage",
   "name": "sagemath"
  },
  "language_info": {
   "codemirror_mode": {
    "name": "ipython",
    "version": 3
   },
   "file_extension": ".py",
   "mimetype": "text/x-python",
   "name": "python",
   "nbconvert_exporter": "python",
   "pygments_lexer": "ipython3",
   "version": "3.7.3"
  }
 },
 "nbformat": 4,
 "nbformat_minor": 2
}
