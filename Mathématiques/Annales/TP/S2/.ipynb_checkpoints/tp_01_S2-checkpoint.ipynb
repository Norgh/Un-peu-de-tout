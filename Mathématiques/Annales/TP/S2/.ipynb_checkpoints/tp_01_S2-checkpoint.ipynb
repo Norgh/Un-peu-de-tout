{
 "cells": [
  {
   "cell_type": "code",
   "execution_count": 5,
   "metadata": {},
   "outputs": [
    {
     "data": {
      "text/plain": [
       "[[0, 0], [1, 0], [0, 1], [1, 1]]"
      ]
     },
     "execution_count": 5,
     "metadata": {},
     "output_type": "execute_result"
    }
   ],
   "source": [
    "def suites(n):\n",
    "    \n",
    "    suite=[]\n",
    "    elem=[]\n",
    "    \n",
    "    for i in range (0,2^n):\n",
    "        for j in range (0,n):\n",
    "            elem.append((0))\n",
    "        suite.append(elem)\n",
    "        elem=[]    \n",
    "        \n",
    "    for i in range (0,2^n):\n",
    "        suite[i][0]+=i\n",
    "        for j in range (0,n-1):\n",
    "            while(suite[i][j]>=2):\n",
    "                suite[i][j+1]+=1\n",
    "                suite[i][j]=suite[i][j]-2\n",
    "    \n",
    "    \n",
    "    \n",
    "    return suite\n",
    "\n",
    "\n",
    "(suites(2))"
   ]
  },
  {
   "cell_type": "code",
   "execution_count": 2,
   "metadata": {},
   "outputs": [
    {
     "data": {
      "text/plain": [
       "[[], [1], [], [1]]"
      ]
     },
     "execution_count": 2,
     "metadata": {},
     "output_type": "execute_result"
    }
   ],
   "source": [
    "def parties(E):\n",
    "    base=suites(len(E))\n",
    "    for i in range (0,2^len(E)):\n",
    "        for j in range (0,len(E)):\n",
    "            base[i][j]=base[i][j]*E[j] \n",
    "  \n",
    "    for i in range (0,2^len(E)):\n",
    "        for j in range (len(E)-1,-1,-1):\n",
    "            if base[i][j]==0:\n",
    "                del base[i][j] \n",
    "                \n",
    "    return base\n",
    "\n",
    "parties([1,0])"
   ]
  },
  {
   "cell_type": "code",
   "execution_count": null,
   "metadata": {},
   "outputs": [],
   "source": []
  },
  {
   "cell_type": "code",
   "execution_count": 9,
   "metadata": {},
   "outputs": [
    {
     "data": {
      "text/plain": [
       "[]"
      ]
     },
     "execution_count": 9,
     "metadata": {},
     "output_type": "execute_result"
    }
   ],
   "source": [
    "def parties_taille(k, E):\n",
    "    base=parties(E)\n",
    "    result=[]\n",
    "    for i in base:\n",
    "        if(len(i)==k):\n",
    "            result.append(i)\n",
    "    return result\n",
    "        \n",
    "parties_taille(2,[0,1])"
   ]
  },
  {
   "cell_type": "code",
   "execution_count": null,
   "metadata": {},
   "outputs": [],
   "source": []
  }
 ],
 "metadata": {
  "kernelspec": {
   "display_name": "SageMath 9.0",
   "language": "sage",
   "name": "sagemath"
  },
  "language_info": {
   "codemirror_mode": {
    "name": "ipython",
    "version": 3
   },
   "file_extension": ".py",
   "mimetype": "text/x-python",
   "name": "python",
   "nbconvert_exporter": "python",
   "pygments_lexer": "ipython3",
   "version": "3.8.1"
  }
 },
 "nbformat": 4,
 "nbformat_minor": 2
}
