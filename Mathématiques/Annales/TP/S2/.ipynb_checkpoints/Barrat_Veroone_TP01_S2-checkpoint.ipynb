{
 "cells": [
  {
   "cell_type": "markdown",
   "metadata": {},
   "source": [
    "<center><h1>Tp02 Semestre 2 Sage</h1></center>\n",
    "<B>Question 1: </B>"
   ]
  },
  {
   "cell_type": "code",
   "execution_count": 54,
   "metadata": {},
   "outputs": [
    {
     "data": {
      "text/plain": [
       "[[0, 0, 0],\n",
       " [1, 0, 0],\n",
       " [0, 1, 0],\n",
       " [1, 1, 0],\n",
       " [0, 0, 1],\n",
       " [1, 0, 1],\n",
       " [0, 1, 1],\n",
       " [1, 1, 1]]"
      ]
     },
     "execution_count": 54,
     "metadata": {},
     "output_type": "execute_result"
    }
   ],
   "source": [
    "def suites(n):\n",
    "    \n",
    "    suite=[]\n",
    "    elem=[]\n",
    "    \n",
    "    for i in range (0,2^n):\n",
    "        for j in range (0,n):\n",
    "            elem.append((0))\n",
    "        suite.append(elem)\n",
    "        elem=[]    \n",
    "    \n",
    "    for i in range (0,2^n):\n",
    "        suite[i][0]+=i\n",
    "        for j in range (0,n-1):\n",
    "            while(suite[i][j]>=2):\n",
    "                suite[i][j+1]+=1\n",
    "                suite[i][j]=suite[i][j]-2\n",
    "\n",
    "    return suite\n",
    "\n",
    "\n",
    "suites(3)"
   ]
  },
  {
   "cell_type": "markdown",
   "metadata": {},
   "source": [
    "<B>Question 2: </B>"
   ]
  },
  {
   "cell_type": "code",
   "execution_count": 66,
   "metadata": {},
   "outputs": [
    {
     "data": {
      "text/plain": [
       "[[0, 0, 0],\n",
       " [1, 0, 0],\n",
       " [0, 2, 0],\n",
       " [1, 2, 0],\n",
       " [0, 0, 4],\n",
       " [1, 0, 4],\n",
       " [0, 2, 4],\n",
       " [1, 2, 4]]"
      ]
     },
     "execution_count": 66,
     "metadata": {},
     "output_type": "execute_result"
    }
   ],
   "source": [
    "def parties(E):\n",
    "    base=suites(len(E))\n",
    "    for i in range (0,2^len(E)):\n",
    "        for j in range (0,len(E)):\n",
    "            base[i][j]=base[i][j]*E[j]\n",
    "    return base\n",
    "parties([1,2,4])"
   ]
  },
  {
   "cell_type": "markdown",
   "metadata": {},
   "source": [
    "<B>Question 3: </B>"
   ]
  },
  {
   "cell_type": "code",
   "execution_count": 56,
   "metadata": {},
   "outputs": [],
   "source": [
    "def succ(letter,listLetter):\n",
    "    if (letter == listLetter[len(listLetter)-1]):\n",
    "        return (listLetter[0])\n",
    "    for i in range (0,len(listLetter)):\n",
    "        if (listLetter[i] == letter):\n",
    "            return listLetter[++i]\n",
    "\n",
    "def suivant(E):\n",
    "    if()"
   ]
  }
 ],
 "metadata": {
  "kernelspec": {
   "display_name": "SageMath 9.0",
   "language": "sage",
   "name": "sagemath"
  },
  "language_info": {
   "codemirror_mode": {
    "name": "ipython",
    "version": 2
   },
   "file_extension": ".py",
   "mimetype": "text/x-python",
   "name": "python",
   "nbconvert_exporter": "python",
   "pygments_lexer": "ipython2",
   "version": "2.7.15"
  }
 },
 "nbformat": 4,
 "nbformat_minor": 2
}
