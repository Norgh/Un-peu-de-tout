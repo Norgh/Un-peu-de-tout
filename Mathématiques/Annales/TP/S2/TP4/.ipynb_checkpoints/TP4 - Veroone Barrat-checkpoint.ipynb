{
 "cells": [
  {
   "cell_type": "code",
   "execution_count": 1,
   "metadata": {},
   "outputs": [
    {
     "name": "stdout",
     "output_type": "stream",
     "text": [
      "-= Classe Sandpile chargée =-\n",
      "\n",
      "N'oubliez pas de la recharger à chaque fois que vous la modifiez !\n"
     ]
    }
   ],
   "source": [
    "load(\"Sandpile.sage\")"
   ]
  },
  {
   "cell_type": "markdown",
   "metadata": {},
   "source": [
    "## 1. Tas de sable"
   ]
  },
  {
   "cell_type": "code",
   "execution_count": 2,
   "metadata": {},
   "outputs": [
    {
     "data": {
      "image/png": "[encoded data removed]",
      "text/plain": [
       "Graphics object consisting of 10 graphics primitives"
      ]
     },
     "execution_count": 2,
     "metadata": {},
     "output_type": "execute_result"
    }
   ],
   "source": [
    "s = Sandpile([[1,2,3], [2,3,4], [3,4,5]])\n",
    "s.show()"
   ]
  },
  {
   "cell_type": "markdown",
   "metadata": {},
   "source": [
    "## 2. Tas instables"
   ]
  },
  {
   "cell_type": "code",
   "execution_count": 3,
   "metadata": {},
   "outputs": [
    {
     "data": {
      "text/plain": [
       "[1 3 4]\n",
       "[3 0 1]\n",
       "[3 5 6]"
      ]
     },
     "execution_count": 3,
     "metadata": {},
     "output_type": "execute_result"
    }
   ],
   "source": [
    "s.topple(1, 2)\n",
    "s.topple(1, 1)"
   ]
  },
  {
   "cell_type": "code",
   "execution_count": 4,
   "metadata": {},
   "outputs": [
    {
     "name": "stdout",
     "output_type": "stream",
     "text": [
      "Cette case est déjà stable\n"
     ]
    }
   ],
   "source": [
    "s.topple(1, 1)"
   ]
  },
  {
   "cell_type": "markdown",
   "metadata": {},
   "source": [
    "## 3. Stabilisation"
   ]
  },
  {
   "cell_type": "code",
   "execution_count": 5,
   "metadata": {},
   "outputs": [
    {
     "data": {
      "text/html": [
       "<html><script type=\"math/tex; mode=display\">\\newcommand{\\Bold}[1]{\\mathbf{#1}}\\verb|Stable|\\phantom{\\verb!x!}\\verb|state|\\phantom{\\verb!x!}\\verb|reached|\\phantom{\\verb!x!}\\verb|after| 6 \\phantom{\\verb!x!}\\verb|topplings|</script></html>"
      ],
      "text/plain": [
       "'Stable state reached after ' 6 ' topplings'"
      ]
     },
     "metadata": {},
     "output_type": "display_data"
    },
    {
     "data": {
      "text/plain": [
       "[3 0 1]\n",
       "[0 3 3]\n",
       "[1 3 3]"
      ]
     },
     "execution_count": 5,
     "metadata": {},
     "output_type": "execute_result"
    }
   ],
   "source": [
    "s.stabilize()"
   ]
  },
  {
   "cell_type": "code",
   "execution_count": 6,
   "metadata": {},
   "outputs": [
    {
     "data": {
      "text/html": [
       "<html><script type=\"math/tex; mode=display\">\\newcommand{\\Bold}[1]{\\mathbf{#1}}\\verb|Stable|\\phantom{\\verb!x!}\\verb|state|\\phantom{\\verb!x!}\\verb|reached|\\phantom{\\verb!x!}\\verb|after| 1522 \\phantom{\\verb!x!}\\verb|topplings|</script></html>"
      ],
      "text/plain": [
       "'Stable state reached after ' 1522 ' topplings'"
      ]
     },
     "metadata": {},
     "output_type": "display_data"
    },
    {
     "data": {
      "image/png": "[encoded data removed]",
      "text/plain": [
       "Graphics object consisting of 442 graphics primitives"
      ]
     },
     "execution_count": 6,
     "metadata": {},
     "output_type": "execute_result"
    }
   ],
   "source": [
    "exercice_3b = Sandpile( 21*[ 21*[2] ] )\n",
    "exercice_3b.mat[10,10]=100\n",
    "exercice_3b.stabilize()\n",
    "exercice_3b.show()"
   ]
  },
  {
   "cell_type": "markdown",
   "metadata": {},
   "source": [
    "## 4. Tas stable"
   ]
  },
  {
   "cell_type": "code",
   "execution_count": 7,
   "metadata": {},
   "outputs": [
    {
     "data": {
      "text/html": [
       "<html><script type=\"math/tex; mode=display\">\\newcommand{\\Bold}[1]{\\mathbf{#1}}\\verb|Stable|\\phantom{\\verb!x!}\\verb|state|\\phantom{\\verb!x!}\\verb|reached|\\phantom{\\verb!x!}\\verb|after| 29 \\phantom{\\verb!x!}\\verb|topplings|</script></html>"
      ],
      "text/plain": [
       "'Stable state reached after ' 29 ' topplings'"
      ]
     },
     "metadata": {},
     "output_type": "display_data"
    },
    {
     "data": {
      "text/plain": [
       "[2 3 1 3 1]\n",
       "[3 2 3 3 2]\n",
       "[1 1 1 2 2]\n",
       "[3 3 1 3 3]\n",
       "[3 1 0 3 1]"
      ]
     },
     "execution_count": 7,
     "metadata": {},
     "output_type": "execute_result"
    }
   ],
   "source": [
    "a = Sandpile([[1, 1, 1, 0, 1],\n",
    "              [1, 0, 3, 1, 3],\n",
    "              [0, 2, 2, 2, 1],\n",
    "              [0, 1, 2, 1, 0],\n",
    "              [3, 0, 0, 1, 0]])\n",
    "\n",
    "b = Sandpile([[1, 0, 2, 0, 3],\n",
    "              [0, 2, 2, 1, 0],\n",
    "              [3, 1, 2, 1, 1],\n",
    "              [0, 0, 3, 3, 3],\n",
    "              [3, 1, 3, 1, 3]])\n",
    "a+b\n"
   ]
  },
  {
   "cell_type": "markdown",
   "metadata": {},
   "source": [
    "## 5. Tas récurrents"
   ]
  },
  {
   "cell_type": "code",
   "execution_count": 8,
   "metadata": {},
   "outputs": [
    {
     "data": {
      "text/html": [
       "<html><script type=\"math/tex; mode=display\">\\newcommand{\\Bold}[1]{\\mathbf{#1}}\\verb|Stable|\\phantom{\\verb!x!}\\verb|state|\\phantom{\\verb!x!}\\verb|reached|\\phantom{\\verb!x!}\\verb|after| 179 \\phantom{\\verb!x!}\\verb|topplings|</script></html>"
      ],
      "text/plain": [
       "'Stable state reached after ' 179 ' topplings'"
      ]
     },
     "metadata": {},
     "output_type": "display_data"
    },
    {
     "data": {
      "text/html": [
       "<html><script type=\"math/tex; mode=display\">\\newcommand{\\Bold}[1]{\\mathbf{#1}}\\verb|Stable|\\phantom{\\verb!x!}\\verb|state|\\phantom{\\verb!x!}\\verb|reached|\\phantom{\\verb!x!}\\verb|after| 99 \\phantom{\\verb!x!}\\verb|topplings|</script></html>"
      ],
      "text/plain": [
       "'Stable state reached after ' 99 ' topplings'"
      ]
     },
     "metadata": {},
     "output_type": "display_data"
    },
    {
     "data": {
      "text/plain": [
       "[2 3 2 3 2]\n",
       "[3 2 1 2 3]\n",
       "[2 1 0 1 2]\n",
       "[3 2 1 2 3]\n",
       "[2 3 2 3 2]"
      ]
     },
     "execution_count": 8,
     "metadata": {},
     "output_type": "execute_result"
    }
   ],
   "source": [
    "def findNeutral(n):\n",
    "    sMax = Sandpile( n*[ n*[3] ] )\n",
    "    dsMax=sMax+sMax\n",
    "    temp=Sandpile( n*[ n*[0] ] )\n",
    "    for i in range(n):\n",
    "        for j in range(n):\n",
    "            temp.mat[i,j]=(3-dsMax[i,j])\n",
    "    sMax = Sandpile( n*[ n*[3] ] )\n",
    "    sMax+=temp\n",
    "    return (sMax)\n",
    "\n",
    "\n",
    "so = findNeutral(5)\n",
    "so"
   ]
  },
  {
   "cell_type": "code",
   "execution_count": 9,
   "metadata": {},
   "outputs": [
    {
     "data": {
      "text/html": [
       "<html><script type=\"math/tex; mode=display\">\\newcommand{\\Bold}[1]{\\mathbf{#1}}\\verb|Stable|\\phantom{\\verb!x!}\\verb|state|\\phantom{\\verb!x!}\\verb|reached|\\phantom{\\verb!x!}\\verb|after| 2089 \\phantom{\\verb!x!}\\verb|topplings|</script></html>"
      ],
      "text/plain": [
       "'Stable state reached after ' 2089 ' topplings'"
      ]
     },
     "metadata": {},
     "output_type": "display_data"
    },
    {
     "data": {
      "text/html": [
       "<html><script type=\"math/tex; mode=display\">\\newcommand{\\Bold}[1]{\\mathbf{#1}}\\verb|Stable|\\phantom{\\verb!x!}\\verb|state|\\phantom{\\verb!x!}\\verb|reached|\\phantom{\\verb!x!}\\verb|after| 1832 \\phantom{\\verb!x!}\\verb|topplings|</script></html>"
      ],
      "text/plain": [
       "'Stable state reached after ' 1832 ' topplings'"
      ]
     },
     "metadata": {},
     "output_type": "display_data"
    },
    {
     "data": {
      "text/html": [
       "<html><script type=\"math/tex; mode=display\">\\newcommand{\\Bold}[1]{\\mathbf{#1}}\\verb|Stable|\\phantom{\\verb!x!}\\verb|state|\\phantom{\\verb!x!}\\verb|reached|\\phantom{\\verb!x!}\\verb|after| 744 \\phantom{\\verb!x!}\\verb|topplings|</script></html>"
      ],
      "text/plain": [
       "'Stable state reached after ' 744 ' topplings'"
      ]
     },
     "metadata": {},
     "output_type": "display_data"
    },
    {
     "data": {
      "text/html": [
       "<html><script type=\"math/tex; mode=display\">\\newcommand{\\Bold}[1]{\\mathbf{#1}}\\verb|Stable|\\phantom{\\verb!x!}\\verb|state|\\phantom{\\verb!x!}\\verb|reached|\\phantom{\\verb!x!}\\verb|after| 1088 \\phantom{\\verb!x!}\\verb|topplings|</script></html>"
      ],
      "text/plain": [
       "'Stable state reached after ' 1088 ' topplings'"
      ]
     },
     "metadata": {},
     "output_type": "display_data"
    },
    {
     "data": {
      "text/plain": [
       "True"
      ]
     },
     "execution_count": 9,
     "metadata": {},
     "output_type": "execute_result"
    }
   ],
   "source": [
    "k = Sandpile( [ [ randint(3,10) for i in [0..9] ] for j in [0..9] ] )\n",
    "k.stabilize()\n",
    "s0 = k.findNeutral()\n",
    "k + s0 == k"
   ]
  },
  {
   "cell_type": "code",
   "execution_count": 10,
   "metadata": {},
   "outputs": [
    {
     "data": {
      "text/html": [
       "<html><script type=\"math/tex; mode=display\">\\newcommand{\\Bold}[1]{\\mathbf{#1}}\\verb|Stable|\\phantom{\\verb!x!}\\verb|state|\\phantom{\\verb!x!}\\verb|reached|\\phantom{\\verb!x!}\\verb|after| 2212 \\phantom{\\verb!x!}\\verb|topplings|</script></html>"
      ],
      "text/plain": [
       "'Stable state reached after ' 2212 ' topplings'"
      ]
     },
     "metadata": {},
     "output_type": "display_data"
    },
    {
     "data": {
      "text/html": [
       "<html><script type=\"math/tex; mode=display\">\\newcommand{\\Bold}[1]{\\mathbf{#1}}\\verb|Stable|\\phantom{\\verb!x!}\\verb|state|\\phantom{\\verb!x!}\\verb|reached|\\phantom{\\verb!x!}\\verb|after| 1832 \\phantom{\\verb!x!}\\verb|topplings|</script></html>"
      ],
      "text/plain": [
       "'Stable state reached after ' 1832 ' topplings'"
      ]
     },
     "metadata": {},
     "output_type": "display_data"
    },
    {
     "data": {
      "text/html": [
       "<html><script type=\"math/tex; mode=display\">\\newcommand{\\Bold}[1]{\\mathbf{#1}}\\verb|Stable|\\phantom{\\verb!x!}\\verb|state|\\phantom{\\verb!x!}\\verb|reached|\\phantom{\\verb!x!}\\verb|after| 744 \\phantom{\\verb!x!}\\verb|topplings|</script></html>"
      ],
      "text/plain": [
       "'Stable state reached after ' 744 ' topplings'"
      ]
     },
     "metadata": {},
     "output_type": "display_data"
    },
    {
     "data": {
      "text/html": [
       "<html><script type=\"math/tex; mode=display\">\\newcommand{\\Bold}[1]{\\mathbf{#1}}\\verb|Stable|\\phantom{\\verb!x!}\\verb|state|\\phantom{\\verb!x!}\\verb|reached|\\phantom{\\verb!x!}\\verb|after| 1088 \\phantom{\\verb!x!}\\verb|topplings|</script></html>"
      ],
      "text/plain": [
       "'Stable state reached after ' 1088 ' topplings'"
      ]
     },
     "metadata": {},
     "output_type": "display_data"
    },
    {
     "data": {
      "text/plain": [
       "True"
      ]
     },
     "execution_count": 10,
     "metadata": {},
     "output_type": "execute_result"
    }
   ],
   "source": [
    "n = 10\n",
    "s = Sandpile( [ [ randint(3,10) for i in [0..(n - 1)] ] for j in [0..(n - 1)] ] )\n",
    "s.stabilize()\n",
    "so_s = s.findNeutral()\n",
    "s + so_s == s"
   ]
  },
  {
   "cell_type": "markdown",
   "metadata": {},
   "source": [
    "## 6. Jolis tas"
   ]
  },
  {
   "cell_type": "code",
   "execution_count": 11,
   "metadata": {},
   "outputs": [
    {
     "data": {
      "text/html": [
       "<html><script type=\"math/tex; mode=display\">\\newcommand{\\Bold}[1]{\\mathbf{#1}}\\verb|Stable|\\phantom{\\verb!x!}\\verb|state|\\phantom{\\verb!x!}\\verb|reached|\\phantom{\\verb!x!}\\verb|after| 1640 \\phantom{\\verb!x!}\\verb|topplings|</script></html>"
      ],
      "text/plain": [
       "'Stable state reached after ' 1640 ' topplings'"
      ]
     },
     "metadata": {},
     "output_type": "display_data"
    },
    {
     "data": {
      "image/png": "[encoded data removed]",
      "text/plain": [
       "Graphics object consisting of 101 graphics primitives"
      ]
     },
     "execution_count": 11,
     "metadata": {},
     "output_type": "execute_result"
    }
   ],
   "source": [
    "n = 10\n",
    "s = Sandpile( n*[ n*[0] ] )\n",
    "s.mat[0, 0] = 500\n",
    "s.mat[9, 0] = 500\n",
    "s.mat[0, 9] = 500\n",
    "s.mat[9, 9] = 500\n",
    "s.stabilize()\n",
    "s.show()"
   ]
  },
  {
   "cell_type": "code",
   "execution_count": 12,
   "metadata": {},
   "outputs": [
    {
     "data": {
      "text/html": [
       "<html><script type=\"math/tex; mode=display\">\\newcommand{\\Bold}[1]{\\mathbf{#1}}\\verb|Stable|\\phantom{\\verb!x!}\\verb|state|\\phantom{\\verb!x!}\\verb|reached|\\phantom{\\verb!x!}\\verb|after| 4292 \\phantom{\\verb!x!}\\verb|topplings|</script></html>"
      ],
      "text/plain": [
       "'Stable state reached after ' 4292 ' topplings'"
      ]
     },
     "metadata": {},
     "output_type": "display_data"
    },
    {
     "data": {
      "image/png": "[encoded data removed]",
      "text/plain": [
       "Graphics object consisting of 101 graphics primitives"
      ]
     },
     "execution_count": 12,
     "metadata": {},
     "output_type": "execute_result"
    }
   ],
   "source": [
    "n = 10\n",
    "s = Sandpile( n*[ n*[0] ] )\n",
    "s.mat[0, 0] = 1000\n",
    "s.mat[9, 0] = 1000\n",
    "s.mat[0, 9] = 1000\n",
    "s.mat[9, 9] = 1000\n",
    "s.stabilize()\n",
    "s.show()"
   ]
  },
  {
   "cell_type": "code",
   "execution_count": 13,
   "metadata": {},
   "outputs": [
    {
     "data": {
      "text/html": [
       "<html><script type=\"math/tex; mode=display\">\\newcommand{\\Bold}[1]{\\mathbf{#1}}\\verb|Stable|\\phantom{\\verb!x!}\\verb|state|\\phantom{\\verb!x!}\\verb|reached|\\phantom{\\verb!x!}\\verb|after| 2528450 \\phantom{\\verb!x!}\\verb|topplings|</script></html>"
      ],
      "text/plain": [
       "'Stable state reached after ' 2528450 ' topplings'"
      ]
     },
     "metadata": {},
     "output_type": "display_data"
    },
    {
     "data": {
      "image/png": "[encoded data removed]",
      "text/plain": [
       "Graphics object consisting of 626 graphics primitives"
      ]
     },
     "execution_count": 13,
     "metadata": {},
     "output_type": "execute_result"
    }
   ],
   "source": [
    "n = 25\n",
    "s = Sandpile( n*[ n*[0] ] )\n",
    "s.mat[0, 0] = 10000\n",
    "s.mat[24, 0] = 10000\n",
    "s.mat[0, 24] = 10000\n",
    "s.mat[24, 24] = 10000\n",
    "s.mat[12, 12] = 50000\n",
    "s.stabilize()\n",
    "s.show()"
   ]
  },
  {
   "cell_type": "code",
   "execution_count": null,
   "metadata": {},
   "outputs": [],
   "source": []
  }
 ],
 "metadata": {
  "kernelspec": {
   "display_name": "SageMath 9.0",
   "language": "sage",
   "name": "sagemath"
  },
  "language_info": {
   "codemirror_mode": {
    "name": "ipython",
    "version": 3
   },
   "file_extension": ".py",
   "mimetype": "text/x-python",
   "name": "python",
   "nbconvert_exporter": "python",
   "pygments_lexer": "ipython3",
   "version": "3.8.1"
  }
 },
 "nbformat": 4,
 "nbformat_minor": 2
}
