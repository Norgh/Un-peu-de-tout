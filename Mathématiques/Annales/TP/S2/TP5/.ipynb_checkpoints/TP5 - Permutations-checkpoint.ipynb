{
 "cells": [
  {
   "cell_type": "markdown",
   "metadata": {},
   "source": [
    "# TP5 &ndash; Permutations\n",
    "\n",
    "<span style=\"color:blue\"> $\\rightarrow$ Indiquez vos noms ici $\\leftarrow$ </span> \n",
    "\n",
    "Nous allons dans ce TP implémenter quelques opérations de base sur les permutations.\n",
    "\n",
    "## 0) Prise en main\n",
    "\n",
    "\n",
    "Récupérez sur Campus le fichier __Permutation.sage__ contenant un canevas de classe à compléter et chargez-le dans la feuille de calcul de la façon suivante:"
   ]
  },
  {
   "cell_type": "code",
   "execution_count": null,
   "metadata": {},
   "outputs": [],
   "source": [
    "load(\"Permutation.sage\")"
   ]
  },
  {
   "cell_type": "markdown",
   "metadata": {},
   "source": [
    "Ouvrez le fichier dans votre éditeur préféré pour consulter le code de la classe (vous pouvez mettre la coloration syntaxique en mode Python si disponible). Le choix de conception qui a été fait est de représenter en interne une permutation par sa liste ordonnée de valeurs, i.e. sa représentation sur une ligne. On crée par exemple la permutation\n",
    "\n",
    "$$ \\sigma = [ 3\\,2\\,4\\,5\\,1 ] = \\begin{bmatrix} 1 & 2 & 3 & 4 & 5 \\\\ 3 & 2 & 4 & 5 & 1 \\end{bmatrix} \\in \\mathcal{S}_5 $$\n",
    "\n",
    "de la façon suivante:"
   ]
  },
  {
   "cell_type": "code",
   "execution_count": null,
   "metadata": {},
   "outputs": [],
   "source": [
    "s = Permutation([3,2,4,5,1])"
   ]
  },
  {
   "cell_type": "markdown",
   "metadata": {},
   "source": [
    "Sous le capot: le constructeur __ __init__ __ est appelé et stocke dans une variable membre data la représentation sur une ligne de la permutation:"
   ]
  },
  {
   "cell_type": "code",
   "execution_count": null,
   "metadata": {},
   "outputs": [],
   "source": [
    "s.data"
   ]
  },
  {
   "cell_type": "markdown",
   "metadata": {},
   "source": [
    "Pour obtenir la chaîne de caractères utilisée pour l'affichage d'un objet, la méthode __ __repr__ __ est appelée:"
   ]
  },
  {
   "cell_type": "code",
   "execution_count": null,
   "metadata": {},
   "outputs": [],
   "source": [
    "s"
   ]
  },
  {
   "cell_type": "markdown",
   "metadata": {},
   "source": [
    "La méthode __ __call__ __ permet quant à elle d'utiliser l'opérateur \"parenthèses\" pour évaluer une permutation sur une entrée donnée:"
   ]
  },
  {
   "cell_type": "code",
   "execution_count": null,
   "metadata": {},
   "outputs": [],
   "source": [
    "s = Permutation([3,2,4,6,8,7,5,1])\n",
    "s(3)"
   ]
  },
  {
   "cell_type": "markdown",
   "metadata": {},
   "source": [
    "Il est préférable d'évaluer ainsi les permutations ainsi plutôt que d'accéder à leur membre data puisque celui-ci dépend d'un choix d'implémentation. De toute façon, on peut facilement le regénérer avec des évaluations:"
   ]
  },
  {
   "cell_type": "code",
   "execution_count": null,
   "metadata": {},
   "outputs": [],
   "source": [
    "[ s(i) for i in [1..len(s)] ]"
   ]
  },
  {
   "cell_type": "markdown",
   "metadata": {},
   "source": [
    "Notez que la méthode d'évaluation est plutôt permissive, de façon à pouvoir aisément promouvoir une permutation de $\\mathcal{S}_n$ en une permutation de $\\mathcal{S}_N$ avec $N > n$ en considérant que tous les éléments entre $n+1$ et $N$ sont fixés par celle-ci:"
   ]
  },
  {
   "cell_type": "code",
   "execution_count": null,
   "metadata": {},
   "outputs": [],
   "source": [
    "[ s(i) for i in [1..15] ]"
   ]
  },
  {
   "cell_type": "markdown",
   "metadata": {},
   "source": [
    "Vous remarquerez en allant regarder le code que le premier argument d'une méthode en Python est une référence à l'instance qui l'invoque, traditionnellement nommée self (bien que ce ne soit pas un mot-clé réservé du langage, contrairement à this chez d'autres):\n",
    "\n",
    "si a est un A possédant une méthode f, alors a.f(args) équivaut à A.f(a,args) .\n",
    "\n",
    "## 1) Composition\n",
    "\n",
    "Implémentez dans Permutation.sage la méthode __ __mul__ __ permettant d'évaluer la compositiond de permutations, en notation francophone traditionnelle:\n",
    "\n",
    "si s et t sont des permutations, __s*t = s. __ mul __ (t)__ est la permutation usuellement notée s $\\circ$ t.\n",
    "\n",
    "Par exemple:"
   ]
  },
  {
   "cell_type": "code",
   "execution_count": null,
   "metadata": {},
   "outputs": [],
   "source": [
    "s = Permutation([4, 2, 3, 6, 10, 1, 8, 5, 7, 9])\n",
    "t = Permutation([9, 7, 5, 4, 2, 8, 3, 10, 6, 1])\n",
    "\n",
    "s*t == Permutation([7, 8, 10, 6, 2, 5, 3, 9, 1, 4]) # true"
   ]
  },
  {
   "cell_type": "markdown",
   "metadata": {},
   "source": [
    "Pour composer deux permutations, l'une dans $\\mathcal{S}_n$ et l'autre dans $\\mathcal{S}_m$, on se placera dans $\\mathcal{S}_{\\max(m,n)}$:"
   ]
  },
  {
   "cell_type": "code",
   "execution_count": null,
   "metadata": {},
   "outputs": [],
   "source": [
    "s = Permutation([3, 2, 4, 1])\n",
    "t = Permutation([6, 3, 1, 2, 4, 5, 8, 7])\n",
    "\n",
    "s*t == Permutation([6, 4, 3, 2, 1, 5, 8, 7]) # true"
   ]
  },
  {
   "cell_type": "markdown",
   "metadata": {},
   "source": [
    "## 2) Ordre\n",
    "\n",
    "Utilisez votre opérateur de composition pour définir la méthode ordre qui calcule l'ordre de la permutation. Par exemple:"
   ]
  },
  {
   "cell_type": "code",
   "execution_count": null,
   "metadata": {},
   "outputs": [],
   "source": [
    "Permutation([1,4,3,5,6,2]).ordre() == 4 # true"
   ]
  },
  {
   "cell_type": "markdown",
   "metadata": {},
   "source": [
    "Quel est l'ordre de\n",
    "\n",
    "$$ \\sigma = \\begin{bmatrix} 1 & 2 & 3 & 4 & 5 & 6 & 7 & 8 & 9 & 10 & 11 & 12 & 13 & 14 & 15 \\\\ 5 & 3 & 13 & 8 & 11 & 6 & 9 & 15 & 10 & 12 & 2 & 14 & 1 & 7 & 4 \\end{bmatrix} \\in \\mathcal{S}_{15} \\ ? $$"
   ]
  },
  {
   "cell_type": "code",
   "execution_count": null,
   "metadata": {},
   "outputs": [],
   "source": []
  },
  {
   "cell_type": "markdown",
   "metadata": {},
   "source": [
    "## 3) Inversions\n",
    "\n",
    "Implémentez dans la classe Permutation la méthode inversions qui génère la liste des inversions d'une permutation donnée. Par exemple:"
   ]
  },
  {
   "cell_type": "code",
   "execution_count": null,
   "metadata": {},
   "outputs": [],
   "source": [
    "Permutation([5, 2, 3, 4, 1]).inversions() == [(1, 2), (1, 3), (1, 4), (1, 5), (2, 5), (3, 5), (4, 5)] # true"
   ]
  },
  {
   "cell_type": "code",
   "execution_count": null,
   "metadata": {},
   "outputs": [],
   "source": [
    "s = Permutation([6, 7, 18, 8, 3, 20, 12, 10, 17, 5, 13, 2, 4, 11, 9, 14, 19, 16, 1, 15])\n",
    "\n",
    "len(s.inversions()) == 87 # true"
   ]
  },
  {
   "cell_type": "markdown",
   "metadata": {},
   "source": [
    "La parité du nombre d'inversions est une des caractéristiques les plus importantes d'une permutation, exprimée le plus souvent comme une signature: $+1$ pour les permutations paires, $-1$ pour les impaires."
   ]
  },
  {
   "cell_type": "code",
   "execution_count": null,
   "metadata": {},
   "outputs": [],
   "source": [
    "Permutation([3, 8, 2, 6, 5, 4, 1, 7]).sg() == -1 # true"
   ]
  },
  {
   "cell_type": "markdown",
   "metadata": {},
   "source": [
    "## 4) Cycles\n",
    "\n",
    "Implémentez une seconde classe Cycle héritant de Permutation et surchargeant les méthodes __ __init__ __ et __ __repr__ __ de façon à obtenir le comportement suivant:"
   ]
  },
  {
   "cell_type": "code",
   "execution_count": null,
   "metadata": {},
   "outputs": [],
   "source": [
    "c = Cycle([3,7,2]); c # (3 7 2)"
   ]
  },
  {
   "cell_type": "code",
   "execution_count": null,
   "metadata": {},
   "outputs": [],
   "source": [
    "c.ordre() == 3 # true"
   ]
  },
  {
   "cell_type": "code",
   "execution_count": null,
   "metadata": {},
   "outputs": [],
   "source": [
    "[ c(i) for i in [1..7] ] == [1, 3, 7, 4, 5, 6, 2] # true"
   ]
  },
  {
   "cell_type": "code",
   "execution_count": null,
   "metadata": {},
   "outputs": [],
   "source": [
    "c == Permutation([1, 3, 7, 4, 5, 6, 2]) # true"
   ]
  },
  {
   "cell_type": "code",
   "execution_count": null,
   "metadata": {},
   "outputs": [],
   "source": [
    "c*c == Permutation([1, 7, 2, 4, 5, 6, 3]) # true"
   ]
  },
  {
   "cell_type": "markdown",
   "metadata": {},
   "source": [
    "On peut quand même accéder aux méthodes de la classe parent en le demandant explicitement:"
   ]
  },
  {
   "cell_type": "code",
   "execution_count": null,
   "metadata": {},
   "outputs": [],
   "source": [
    "print Permutation.__repr__(c)"
   ]
  },
  {
   "cell_type": "markdown",
   "metadata": {},
   "source": [
    "## 5) Décomposition cyclique\n",
    "\n",
    "Finalement, ce qui nous intéresse peut-être le plus: implémenter la méthode decomposition, qui renvoie une liste de Cycles disjoints dont le produit est la permutation qui nous intéresse. Par exemple:"
   ]
  },
  {
   "cell_type": "code",
   "execution_count": null,
   "metadata": {},
   "outputs": [],
   "source": [
    "s = Permutation([4,6,7,5,1,3,2,9,8])\n",
    "\n",
    "s.decomposition() # [(1 4 5), (2 6 3 7), (8 9)]"
   ]
  },
  {
   "cell_type": "markdown",
   "metadata": {},
   "source": [
    "Vérification:"
   ]
  },
  {
   "cell_type": "code",
   "execution_count": null,
   "metadata": {},
   "outputs": [],
   "source": [
    "Cycle([1,4,5]) * Cycle([2,6,3,7]) * Cycle([9,8]) == s # true"
   ]
  },
  {
   "cell_type": "markdown",
   "metadata": {},
   "source": [
    "Un autre exemple:"
   ]
  },
  {
   "cell_type": "code",
   "execution_count": null,
   "metadata": {},
   "outputs": [],
   "source": [
    "s = Permutation([16,15,14,13,12,11,10,9,8,7,6,5,4,3,2,1])\n",
    "\n",
    "s.decomposition() == [Cycle([1,16]), Cycle([2,15]), Cycle([3,14]), Cycle([4,13]), Cycle([5,12]), Cycle([6,11]), Cycle([7,10]), Cycle([8,9])]"
   ]
  },
  {
   "cell_type": "markdown",
   "metadata": {},
   "source": [
    "Une belle permutation d'ordre 2:"
   ]
  },
  {
   "cell_type": "code",
   "execution_count": null,
   "metadata": {},
   "outputs": [],
   "source": [
    "s.ordre() == 2 # effectivement"
   ]
  },
  {
   "cell_type": "code",
   "execution_count": null,
   "metadata": {},
   "outputs": [],
   "source": []
  }
 ],
 "metadata": {
  "kernelspec": {
   "display_name": "SageMath 9.0",
   "language": "sage",
   "name": "sagemath"
  },
  "language_info": {
   "codemirror_mode": {
    "name": "ipython",
    "version": 3
   },
   "file_extension": ".py",
   "mimetype": "text/x-python",
   "name": "python",
   "nbconvert_exporter": "python",
   "pygments_lexer": "ipython3",
   "version": "3.8.1"
  }
 },
 "nbformat": 4,
 "nbformat_minor": 2
}
