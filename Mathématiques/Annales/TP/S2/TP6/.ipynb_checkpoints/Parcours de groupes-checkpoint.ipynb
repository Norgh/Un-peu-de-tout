{
 "cells": [
  {
   "cell_type": "markdown",
   "metadata": {},
   "source": [
    "Noms des coéquipers: **<span style=\"color:red\">ICI</span>**\n",
    "\n",
    "# Parcours de groupes\n",
    "\n",
    "$G$ étant un groupe fini, il arrive que l'on doive algorithmiquement \n",
    "parcourir tous les éléments de $G$ (l'exemple typique étant: énumérer toutes les permutations d'un ensemble à $n$ éléments), ce qui peut en général se faire de plusieurs façons. Une d'entre elles est de se donner un ensemble $S \\subseteq G$ \n",
    "d'éléments distingués de $G$ et de considérer le graphe dirigé $\\Gamma$, dit *de Cayley*, associé à la paire $(G,S)$, pour lequel\n",
    "\n",
    "$$ V(\\Gamma) = G \\quad \\text{et} \\quad A(\\Gamma) = \\{ \\, (x, \\, x \\cdot s) \n",
    " \\mid x \\in G, \\, s \\in S \\, \\}: $$\n",
    "\n",
    "les sommets sont les éléments de $G$, et il y a un arc de $x$ à $y$ \n",
    "lorsqu'il existe un élément distingué $s \\in S$ pour lequel $y = s \\cdot x$.\n",
    "\n",
    "Nous allons utiliser dans ce TP notre implémentation des permutations de la dernière séance (une est fournie, vous pouvez utiliser la vôtre si elle est fonctionnelle !)."
   ]
  },
  {
   "cell_type": "code",
   "execution_count": null,
   "metadata": {},
   "outputs": [],
   "source": [
    "load(\"Permutation.sage\")"
   ]
  },
  {
   "cell_type": "code",
   "execution_count": null,
   "metadata": {},
   "outputs": [],
   "source": [
    "Permutation([1,4,3,2]) * Cycle([1,2]) == Permutation([4,1,3,2])  # vérification"
   ]
  },
  {
   "cell_type": "markdown",
   "metadata": {},
   "source": [
    "## Échauffement\n",
    "\n",
    "### 1 &ndash; Un petit graphe\n",
    "\n",
    "Voici le graphe de Cayley associé à la paire $G = \\mathcal{S}_4$, $S = \\{ \\color{blue}{(1 \n",
    "\\, 2)}, \\, \\color{red}{(1 \\, 2 \\, 3 \\, 4)} \\}$:"
   ]
  },
  {
   "cell_type": "code",
   "execution_count": null,
   "metadata": {},
   "outputs": [],
   "source": [
    "a = Cycle([1,2])\n",
    "b = Cycle([1,2,3,4])\n",
    "\n",
    "pts = { \"1234\": ( 0, 1, 2), \"2341\": ( 1, 0, 2), \"3412\": ( 0,-1, 2), \"4123\": (-1, 0, 2),\n",
    "        \"2134\": ( 0, 2, 1), \"1342\": (-1, 2, 0), \"3142\": (-2, 1, 0), \"1423\": (-2, 0, 1),\n",
    "        \"4231\": (-2,-1, 0), \"2431\": (-1,-2, 0), \"4312\": ( 0,-2, 1), \"3124\": ( 1,-2, 0),\n",
    "        \"1243\": ( 0,-2,-1), \"2143\": ( 0,-1,-2), \"2314\": (-2, 0,-1), \"3214\": (-1, 0,-2),\n",
    "        \"1432\": ( 1, 0,-2), \"4321\": ( 0, 1,-2), \"4132\": ( 2, 0,-1), \"3241\": ( 2, 0, 1),\n",
    "        \"2413\": ( 2, 1, 0), \"4213\": ( 1, 2, 0), \"3421\": ( 0, 2,-1), \"1324\": ( 2,-1, 0) }\n",
    "\n",
    "def str_repr(s):\n",
    "    \"représentation sur une ligne de la permutation s\"\n",
    "    return \"\".join(str(x) for x in s.data)\n",
    "\n",
    "img = Graphics()\n",
    "for p in pts:\n",
    "    s = Permutation([ int(x) for x in p ])\n",
    "    img += text3d(p, 1.1*vector(pts[p]), color='black')\n",
    "    img += arrow( pts[p], pts[str_repr(s*a)], color=\"blue\" )\n",
    "    img += arrow( pts[p], pts[str_repr(s*b)], color=\"red\" )\n",
    "show(img, frame=false)"
   ]
  },
  {
   "cell_type": "markdown",
   "metadata": {},
   "source": [
    "<b>Questions:</b>\n",
    "\n",
    "a) D'après le graphe, quel est le sommet $\\sigma$ le plus éloigné de la permutation identité $\\mathrm{id}$ et à quelle distance $d$ se trouve-t-il ? Donner en observant le graphe une expression de longueur $d$ permettant de l'exprimer comme produit des générateurs et vérifier calculatoirement que c'est bien le cas."
   ]
  },
  {
   "cell_type": "code",
   "execution_count": null,
   "metadata": {},
   "outputs": [],
   "source": []
  },
  {
   "cell_type": "markdown",
   "metadata": {},
   "source": [
    "b) Vérifier explicitement (par force brute) qu'aucune expression de la forme $a_1 \\cdots a_k$ avec les $a_i \\in S$ et $k < d $ n'est égale à $\\sigma$. NB: cela revient à effectuer un parcours en largeur du graphe à partir du sommet $\\mathrm{id}$."
   ]
  },
  {
   "cell_type": "code",
   "execution_count": null,
   "metadata": {},
   "outputs": [],
   "source": []
  },
  {
   "cell_type": "markdown",
   "metadata": {},
   "source": [
    "### 2 &ndash; Un moyen graphe"
   ]
  },
  {
   "cell_type": "markdown",
   "metadata": {},
   "source": [
    "Pour un graphe plus gros, typiquement on n'y voit rien et on doit se rabattre sur le calcul. Considérons par exemple le graphe de Cayley $\\Gamma$ associé à la paire $G = \\mathcal{S}_6$, $S = \\{ (1 \\, 2) (3 \\, 4), \\, (1 \\, 2 \\, 4 \\, 5) (3 \\, 6) \\}$.\n",
    "\n",
    "<b>À faire:</b> implémenter un parcours en largeur de ce graphe en partant de la permutation identité. Notez qu'il vaut mieux être paresseux et n'évaluer un sommet que lorsqu'on le rencontre pour la première fois: le graphe en tant que tel n'a pas besoin d'exister en tant que structure de données avant d'être parcouru."
   ]
  },
  {
   "cell_type": "code",
   "execution_count": null,
   "metadata": {},
   "outputs": [],
   "source": []
  },
  {
   "cell_type": "markdown",
   "metadata": {},
   "source": [
    "Vous pourrez ensuite répondre à ces questions:\n",
    "\n",
    "a) Le graphe est-il connexe ?"
   ]
  },
  {
   "cell_type": "code",
   "execution_count": null,
   "metadata": {},
   "outputs": [],
   "source": []
  },
  {
   "cell_type": "markdown",
   "metadata": {},
   "source": [
    "b) Quel est son diamètre ? (distance maximale entre deux sommets)"
   ]
  },
  {
   "cell_type": "code",
   "execution_count": null,
   "metadata": {},
   "outputs": [],
   "source": []
  },
  {
   "cell_type": "markdown",
   "metadata": {},
   "source": [
    "c) À quelle distance de l'identité se trouve le sommet $(1 \\, 2 \\, 3) (4 \\, 5 \\, 6)$ ? Donner une expression minimale de cet élément en terme des générateurs."
   ]
  },
  {
   "cell_type": "code",
   "execution_count": null,
   "metadata": {},
   "outputs": [],
   "source": []
  },
  {
   "cell_type": "markdown",
   "metadata": {},
   "source": [
    "## 3 &ndash; Bonus: Application aux jeux de permutations\n",
    "\n",
    "Plusieurs jeux combinatoires peuvent être vus comme des instances du problème « trouver un chemin dans un graphe de Cayley ».\n",
    "\n",
    "Exemples:\n",
    "\n",
    "- jeu de taquin\n",
    "- cube Rubik\n",
    "- <a href=\"https://www.jaapsch.net/puzzles/topspin.htm\">TopSpin</a>\n",
    "- ...\n",
    "\n",
    "Dans tous ces cas, on a:\n",
    "\n",
    "- un ensemble $X$ de configurations du jeu (souvent représentées par des fonctions d'un ensemble $P$ de positions vers un ensemble $C$ de pièces);\n",
    "- un groupe $G \\subseteq \\mathcal{S}_P$ de mouvements possibles, qui agit par conséquent sur $X$;\n",
    "- un ensemble $S \\subseteq G$ de mouvements élémentaires permis (ex. tourner une face d'un cube Rubik);\n",
    "- un graphe de Cayley $\\Gamma$ associé au triplet $(X, G, S)$: les sommets sont les éléments de $X$, et il y a une arête de $x$ vers $y$ lorsque $y = s \\cdot x$ où $s \\in S$\n",
    "- une configuration spéciale $x_0 \\in X$ dite _résolue_\n",
    "\n",
    "et le but du jeu, étant donné une configuration $x \\in X$, est de trouver un chemin dans $\\Gamma$ de $x$ vers $x_0$ (si un tel chemin existe !).\n",
    "\n",
    "Je vous invite à modéliser votre jeu de permutation préféré ainsi: préciser les ensembles $P$, $C$, $X$ et $S$ et commencer l'exploration du graphe au voisinage de la configuration résolue $x_0$.\n",
    "\n",
    "(NB: cette exploration systématique devient vite impossible parce que le groupe $G$ a tendance à être <a href=\"https://www.therubikzone.com/number-of-combinations/\">rapidement très gros</a> &ndash; par contre pour le cube Rubik $2 \\times 2 \\times 2$ si on s'y prend bien on peut tout cartographier, il n'y a « que » quelques millions de sommets dans la composante connexe de la configuration résolue...)"
   ]
  },
  {
   "cell_type": "code",
   "execution_count": null,
   "metadata": {},
   "outputs": [],
   "source": []
  }
 ],
 "metadata": {
  "kernelspec": {
   "display_name": "SageMath 9.0",
   "language": "sage",
   "name": "sagemath"
  },
  "language_info": {
   "codemirror_mode": {
    "name": "ipython",
    "version": 3
   },
   "file_extension": ".py",
   "mimetype": "text/x-python",
   "name": "python",
   "nbconvert_exporter": "python",
   "pygments_lexer": "ipython3",
   "version": "3.7.3"
  }
 },
 "nbformat": 4,
 "nbformat_minor": 2
}
