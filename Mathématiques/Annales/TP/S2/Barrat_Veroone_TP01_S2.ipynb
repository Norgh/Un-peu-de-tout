{
 "cells": [
  {
   "cell_type": "markdown",
   "metadata": {},
   "source": [
    "<center><h1>Tp02 Semestre 2 Sage</h1></center>\n",
    "<B>Question 1: </B>"
   ]
  },
  {
   "cell_type": "code",
   "execution_count": 1,
   "metadata": {},
   "outputs": [
    {
     "data": {
      "text/plain": [
       "[[0, 0, 0],\n",
       " [1, 0, 0],\n",
       " [0, 1, 0],\n",
       " [1, 1, 0],\n",
       " [0, 0, 1],\n",
       " [1, 0, 1],\n",
       " [0, 1, 1],\n",
       " [1, 1, 1]]"
      ]
     },
     "execution_count": 1,
     "metadata": {},
     "output_type": "execute_result"
    }
   ],
   "source": [
    "def suites(n):\n",
    "    \n",
    "    suite=[]\n",
    "    elem=[]\n",
    "    \n",
    "    for i in range (0,2^n):\n",
    "        for j in range (0,n):\n",
    "            elem.append((0))\n",
    "        suite.append(elem)\n",
    "        elem=[]    \n",
    "    \n",
    "    for i in range (0,2^n):\n",
    "        suite[i][0]+=i\n",
    "        for j in range (0,n-1):\n",
    "            while(suite[i][j]>=2):\n",
    "                suite[i][j+1]+=1\n",
    "                suite[i][j]=suite[i][j]-2\n",
    "\n",
    "    return suite\n",
    "\n",
    "\n",
    "suites(3)"
   ]
  },
  {
   "cell_type": "markdown",
   "metadata": {},
   "source": [
    "<B>Question 2: </B>"
   ]
  },
  {
   "cell_type": "code",
   "execution_count": 2,
   "metadata": {},
   "outputs": [
    {
     "data": {
      "text/plain": [
       "[[0, 0, 0],\n",
       " [1, 0, 0],\n",
       " [0, 2, 0],\n",
       " [1, 2, 0],\n",
       " [0, 0, 4],\n",
       " [1, 0, 4],\n",
       " [0, 2, 4],\n",
       " [1, 2, 4]]"
      ]
     },
     "execution_count": 2,
     "metadata": {},
     "output_type": "execute_result"
    }
   ],
   "source": [
    "def parties(E):\n",
    "    base=suites(len(E))\n",
    "    for i in range (0,2^len(E)):\n",
    "        for j in range (0,len(E)):\n",
    "            base[i][j]=base[i][j]*E[j]\n",
    "    return base\n",
    "parties([1,2,4])"
   ]
  },
  {
   "cell_type": "markdown",
   "metadata": {},
   "source": [
    "<B>Question 3: </B>"
   ]
  },
  {
   "cell_type": "code",
   "execution_count": 3,
   "metadata": {},
   "outputs": [
    {
     "ename": "SyntaxError",
     "evalue": "invalid syntax (<ipython-input-3-18da0d001583>, line 9)",
     "output_type": "error",
     "traceback": [
      "\u001b[0;36m  File \u001b[0;32m\"<ipython-input-3-18da0d001583>\"\u001b[0;36m, line \u001b[0;32m9\u001b[0m\n\u001b[0;31m    if()\u001b[0m\n\u001b[0m        ^\u001b[0m\n\u001b[0;31mSyntaxError\u001b[0m\u001b[0;31m:\u001b[0m invalid syntax\n"
     ]
    }
   ],
   "source": [
    "def succ(letter,listLetter):\n",
    "    if (letter == listLetter[len(listLetter)-1]):\n",
    "        return (listLetter[0])\n",
    "    for i in range (0,len(listLetter)):\n",
    "        if (listLetter[i] == letter):\n",
    "            return listLetter[++i]\n",
    "\n",
    "def suivant(E):\n",
    "    if()"
   ]
  },
  {
   "cell_type": "code",
   "execution_count": null,
   "metadata": {},
   "outputs": [],
   "source": []
  }
 ],
 "metadata": {
  "kernelspec": {
   "display_name": "SageMath 9.0",
   "language": "sage",
   "name": "sagemath"
  },
  "language_info": {
   "codemirror_mode": {
    "name": "ipython",
    "version": 3
   },
   "file_extension": ".py",
   "mimetype": "text/x-python",
   "name": "python",
   "nbconvert_exporter": "python",
   "pygments_lexer": "ipython3",
   "version": "3.7.3"
  }
 },
 "nbformat": 4,
 "nbformat_minor": 2
}
