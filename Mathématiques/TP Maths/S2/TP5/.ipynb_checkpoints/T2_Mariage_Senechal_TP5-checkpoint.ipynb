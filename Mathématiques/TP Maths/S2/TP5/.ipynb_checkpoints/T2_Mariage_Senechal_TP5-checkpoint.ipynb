{
 "cells": [
  {
   "cell_type": "markdown",
   "metadata": {},
   "source": [
    "# Fonctions\n",
    "\n",
    "Inscrivez tout d'abord <span style=\"color: red\">Sénéchal Pierre  |  Mariage Augustin</span>.\n",
    "\n",
    "Nous allons dans cette séance de travaux pratiques manipuler des fonctions entre ensembles finis, qu'on peut implémenter à l'aide de tableaux associatifs, appelés <a href=\"https://docs.python.org/2/tutorial/datastructures.html#dictionaries\">dictionnaires</a> en Python (l'équivalent des maps de C++). Ici une fonction de l'ensemble $\\{ a, b, c, d\\}$ vers $\\{1,2,3\\}$:"
   ]
  },
  {
   "cell_type": "code",
   "execution_count": 2,
   "metadata": {},
   "outputs": [],
   "source": [
    "f = { \"a\": 1, \"b\": 2, \"c\": 7, \"d\": 3 }"
   ]
  },
  {
   "cell_type": "markdown",
   "metadata": {},
   "source": [
    "On évalue la fonction sur un élément du domaine à l'aide de l'opérateur crochets:"
   ]
  },
  {
   "cell_type": "code",
   "execution_count": 3,
   "metadata": {},
   "outputs": [
    {
     "data": {
      "text/plain": [
       "2"
      ]
     },
     "execution_count": 3,
     "metadata": {},
     "output_type": "execute_result"
    }
   ],
   "source": [
    "f[\"b\"]"
   ]
  },
  {
   "cell_type": "code",
   "execution_count": 4,
   "metadata": {},
   "outputs": [],
   "source": [
    "def two_line_repr(f):\n",
    "    \n",
    "    res = \"[ \"\n",
    "    for x in f.keys():\n",
    "        pad = (len(str(f[x])) - len(str(x))) * \" \" if len(str(f[x])) > len(str(x)) else \"\"\n",
    "        res += pad + str(x) + \" \"\n",
    "    res += \"]\\n[ \"\n",
    "    \n",
    "    for x in f.keys():\n",
    "        pad = (len(str(x)) - len(str(f[x]))) * \" \" if len(str(x)) > len(str(f[x])) else \"\"\n",
    "        res += pad + str(f[x]) + \" \"\n",
    "    res += \"]\"\n",
    "    \n",
    "    print(res)"
   ]
  },
  {
   "cell_type": "code",
   "execution_count": 5,
   "metadata": {},
   "outputs": [
    {
     "name": "stdout",
     "output_type": "stream",
     "text": [
      "[ a b c d ]\n",
      "[ 1 2 7 3 ]\n"
     ]
    }
   ],
   "source": [
    "two_line_repr(f)"
   ]
  },
  {
   "cell_type": "markdown",
   "metadata": {},
   "source": [
    "## 1) Composition\n",
    "\n",
    "Définir une fonction **comp(f,g)** qui prend en argument deux fonctions $f$ et $g$ données sous forme de dictionnaire et renvoie la fonction composée $f \\circ g$; une erreur est affichée si les fonctions ne sont pas composables. Vérifier sur quelques exemples que vous avez bien le fonctionnement attendu."
   ]
  },
  {
   "cell_type": "code",
   "execution_count": 6,
   "metadata": {},
   "outputs": [],
   "source": [
    "def comp(f,g):\n",
    "    \n",
    "    return {x: f[g[x]] for x in g.keys()}"
   ]
  },
  {
   "cell_type": "code",
   "execution_count": 7,
   "metadata": {},
   "outputs": [
    {
     "name": "stdout",
     "output_type": "stream",
     "text": [
      "[ 0 1 2 3  4  5  6 7 8 9 10 11 12 13 14 15 16 17 18 19 ]\n",
      "[ 0 3 6 9 12 15 18 1 4 7 10 13 16 19  2  5  8 11 14 17 ]\n"
     ]
    }
   ],
   "source": [
    "g = { i: 3*i%20 for i in range(20) }\n",
    "two_line_repr(g)"
   ]
  },
  {
   "cell_type": "code",
   "execution_count": 8,
   "metadata": {},
   "outputs": [
    {
     "name": "stdout",
     "output_type": "stream",
     "text": [
      "[ 1 2 3 4  5 6  7 8  9 10 11 12 ]\n",
      "[ 6 9 7 2 10 7 10 6 11 12  2  1 ]\n",
      "\n",
      "[  1 2 3  4 5 6 7  8 9 10 11 12 ]\n",
      "[ 12 2 1 11 6 1 6 12 9  7 11 10 ]\n",
      "\n",
      "[ 1  2  3 4  5  6  7 8 9 10 11 12 ]\n",
      "[ 7 11 10 9 12 10 12 7 2  1  9  6 ]\n",
      "\n",
      "[ 1 2 3 4 5 6 7 8  9 10 11 12 ]\n",
      "[ 1 9 6 2 7 6 7 1 11 10  2 12 ]\n",
      "\n",
      "[  1 2  3  4 5  6 7  8 9 10 11 12 ]\n",
      "[ 10 2 12 11 1 12 1 10 9  6 11  7 ]\n",
      "\n",
      "[ 1  2 3 4  5 6  7 8 9 10 11 12 ]\n",
      "[ 6 11 7 9 10 7 10 6 2 12  9  1 ]\n",
      "\n",
      "[  1 2 3 4 5 6 7  8  9 10 11 12 ]\n",
      "[ 12 9 1 2 6 1 6 12 11  7  2 10 ]\n",
      "\n"
     ]
    }
   ],
   "source": [
    "d = [10, 11, 12, 9, 8, 12, 1, 10, 2, 6, 9, 7]\n",
    "\n",
    "f = {i+1: d[i] for i in range(12)}\n",
    "\n",
    "r = f\n",
    "\n",
    "for i in range(7):\n",
    "\n",
    "    r = comp(r,f)\n",
    "    two_line_repr(r)\n",
    "    print(\"\")"
   ]
  },
  {
   "cell_type": "markdown",
   "metadata": {},
   "source": [
    "## 2) Générer les fonctions\n",
    "\n",
    "Définir une fonction (récursive si vous voulez) **all_func(n)** prenant en argument un entier $n$ et renvoyant une liste de toutes les fonctions de l'ensemble $[\\![1, n]\\!]$ dans lui-même (vérifiez que vous en obtenez bien $n^n$)."
   ]
  },
  {
   "cell_type": "code",
   "execution_count": 9,
   "metadata": {},
   "outputs": [
    {
     "data": {
      "text/plain": [
       "[{1: 1, 2: 1}, {1: 1, 2: 2}, {1: 2, 2: 1}, {1: 2, 2: 2}]"
      ]
     },
     "execution_count": 9,
     "metadata": {},
     "output_type": "execute_result"
    }
   ],
   "source": [
    "def all_func_mn(m, n):\n",
    "    \n",
    "    res = []\n",
    "    \n",
    "    if m==0:\n",
    "        res.append({})\n",
    "    elif m>0:\n",
    "        for f in all_func_mn(m-1, n):\n",
    "            for y in [1..n]:\n",
    "                ff = copy(f)\n",
    "                ff[m] = y\n",
    "                res.append(ff)\n",
    "    return res\n",
    "    \n",
    "def all_func(n):\n",
    "    \n",
    "    return all_func_mn(n, n)\n",
    "\n",
    "all_func(2)"
   ]
  },
  {
   "cell_type": "markdown",
   "metadata": {},
   "source": [
    "## 3) Associativité\n",
    "\n",
    "Vérifier explicitement l'associativité de la composition sur $\\mathcal{F}_n := \\mathcal{F}([\\![1,n]\\!])$ pour $n=3$ (rapide) puis pour $n = 4$ ($\\sim$ 1 min 20 s sur ma machine &ndash; vous pouvez chronométrer l'exécution d'une cellule en y écrivant **%%time** sur la première ligne). Combien de temps cela vous prendrait-il pour $n = 5$ ?"
   ]
  },
  {
   "cell_type": "code",
   "execution_count": 18,
   "metadata": {},
   "outputs": [
    {
     "name": "stdout",
     "output_type": "stream",
     "text": [
      "[{1: 1, 2: 1, 3: 1, 4: 1}, {1: 1, 2: 1, 3: 1, 4: 2}, {1: 1, 2: 1, 3: 1, 4: 3}, {1: 1, 2: 1, 3: 1, 4: 4}, {1: 1, 2: 1, 3: 2, 4: 1}, {1: 1, 2: 1, 3: 2, 4: 2}, {1: 1, 2: 1, 3: 2, 4: 3}, {1: 1, 2: 1, 3: 2, 4: 4}, {1: 1, 2: 1, 3: 3, 4: 1}, {1: 1, 2: 1, 3: 3, 4: 2}, {1: 1, 2: 1, 3: 3, 4: 3}, {1: 1, 2: 1, 3: 3, 4: 4}, {1: 1, 2: 1, 3: 4, 4: 1}, {1: 1, 2: 1, 3: 4, 4: 2}, {1: 1, 2: 1, 3: 4, 4: 3}, {1: 1, 2: 1, 3: 4, 4: 4}, {1: 1, 2: 2, 3: 1, 4: 1}, {1: 1, 2: 2, 3: 1, 4: 2}, {1: 1, 2: 2, 3: 1, 4: 3}, {1: 1, 2: 2, 3: 1, 4: 4}, {1: 1, 2: 2, 3: 2, 4: 1}, {1: 1, 2: 2, 3: 2, 4: 2}, {1: 1, 2: 2, 3: 2, 4: 3}, {1: 1, 2: 2, 3: 2, 4: 4}, {1: 1, 2: 2, 3: 3, 4: 1}, {1: 1, 2: 2, 3: 3, 4: 2}, {1: 1, 2: 2, 3: 3, 4: 3}, {1: 1, 2: 2, 3: 3, 4: 4}, {1: 1, 2: 2, 3: 4, 4: 1}, {1: 1, 2: 2, 3: 4, 4: 2}, {1: 1, 2: 2, 3: 4, 4: 3}, {1: 1, 2: 2, 3: 4, 4: 4}, {1: 1, 2: 3, 3: 1, 4: 1}, {1: 1, 2: 3, 3: 1, 4: 2}, {1: 1, 2: 3, 3: 1, 4: 3}, {1: 1, 2: 3, 3: 1, 4: 4}, {1: 1, 2: 3, 3: 2, 4: 1}, {1: 1, 2: 3, 3: 2, 4: 2}, {1: 1, 2: 3, 3: 2, 4: 3}, {1: 1, 2: 3, 3: 2, 4: 4}, {1: 1, 2: 3, 3: 3, 4: 1}, {1: 1, 2: 3, 3: 3, 4: 2}, {1: 1, 2: 3, 3: 3, 4: 3}, {1: 1, 2: 3, 3: 3, 4: 4}, {1: 1, 2: 3, 3: 4, 4: 1}, {1: 1, 2: 3, 3: 4, 4: 2}, {1: 1, 2: 3, 3: 4, 4: 3}, {1: 1, 2: 3, 3: 4, 4: 4}, {1: 1, 2: 4, 3: 1, 4: 1}, {1: 1, 2: 4, 3: 1, 4: 2}, {1: 1, 2: 4, 3: 1, 4: 3}, {1: 1, 2: 4, 3: 1, 4: 4}, {1: 1, 2: 4, 3: 2, 4: 1}, {1: 1, 2: 4, 3: 2, 4: 2}, {1: 1, 2: 4, 3: 2, 4: 3}, {1: 1, 2: 4, 3: 2, 4: 4}, {1: 1, 2: 4, 3: 3, 4: 1}, {1: 1, 2: 4, 3: 3, 4: 2}, {1: 1, 2: 4, 3: 3, 4: 3}, {1: 1, 2: 4, 3: 3, 4: 4}, {1: 1, 2: 4, 3: 4, 4: 1}, {1: 1, 2: 4, 3: 4, 4: 2}, {1: 1, 2: 4, 3: 4, 4: 3}, {1: 1, 2: 4, 3: 4, 4: 4}, {1: 2, 2: 1, 3: 1, 4: 1}, {1: 2, 2: 1, 3: 1, 4: 2}, {1: 2, 2: 1, 3: 1, 4: 3}, {1: 2, 2: 1, 3: 1, 4: 4}, {1: 2, 2: 1, 3: 2, 4: 1}, {1: 2, 2: 1, 3: 2, 4: 2}, {1: 2, 2: 1, 3: 2, 4: 3}, {1: 2, 2: 1, 3: 2, 4: 4}, {1: 2, 2: 1, 3: 3, 4: 1}, {1: 2, 2: 1, 3: 3, 4: 2}, {1: 2, 2: 1, 3: 3, 4: 3}, {1: 2, 2: 1, 3: 3, 4: 4}, {1: 2, 2: 1, 3: 4, 4: 1}, {1: 2, 2: 1, 3: 4, 4: 2}, {1: 2, 2: 1, 3: 4, 4: 3}, {1: 2, 2: 1, 3: 4, 4: 4}, {1: 2, 2: 2, 3: 1, 4: 1}, {1: 2, 2: 2, 3: 1, 4: 2}, {1: 2, 2: 2, 3: 1, 4: 3}, {1: 2, 2: 2, 3: 1, 4: 4}, {1: 2, 2: 2, 3: 2, 4: 1}, {1: 2, 2: 2, 3: 2, 4: 2}, {1: 2, 2: 2, 3: 2, 4: 3}, {1: 2, 2: 2, 3: 2, 4: 4}, {1: 2, 2: 2, 3: 3, 4: 1}, {1: 2, 2: 2, 3: 3, 4: 2}, {1: 2, 2: 2, 3: 3, 4: 3}, {1: 2, 2: 2, 3: 3, 4: 4}, {1: 2, 2: 2, 3: 4, 4: 1}, {1: 2, 2: 2, 3: 4, 4: 2}, {1: 2, 2: 2, 3: 4, 4: 3}, {1: 2, 2: 2, 3: 4, 4: 4}, {1: 2, 2: 3, 3: 1, 4: 1}, {1: 2, 2: 3, 3: 1, 4: 2}, {1: 2, 2: 3, 3: 1, 4: 3}, {1: 2, 2: 3, 3: 1, 4: 4}, {1: 2, 2: 3, 3: 2, 4: 1}, {1: 2, 2: 3, 3: 2, 4: 2}, {1: 2, 2: 3, 3: 2, 4: 3}, {1: 2, 2: 3, 3: 2, 4: 4}, {1: 2, 2: 3, 3: 3, 4: 1}, {1: 2, 2: 3, 3: 3, 4: 2}, {1: 2, 2: 3, 3: 3, 4: 3}, {1: 2, 2: 3, 3: 3, 4: 4}, {1: 2, 2: 3, 3: 4, 4: 1}, {1: 2, 2: 3, 3: 4, 4: 2}, {1: 2, 2: 3, 3: 4, 4: 3}, {1: 2, 2: 3, 3: 4, 4: 4}, {1: 2, 2: 4, 3: 1, 4: 1}, {1: 2, 2: 4, 3: 1, 4: 2}, {1: 2, 2: 4, 3: 1, 4: 3}, {1: 2, 2: 4, 3: 1, 4: 4}, {1: 2, 2: 4, 3: 2, 4: 1}, {1: 2, 2: 4, 3: 2, 4: 2}, {1: 2, 2: 4, 3: 2, 4: 3}, {1: 2, 2: 4, 3: 2, 4: 4}, {1: 2, 2: 4, 3: 3, 4: 1}, {1: 2, 2: 4, 3: 3, 4: 2}, {1: 2, 2: 4, 3: 3, 4: 3}, {1: 2, 2: 4, 3: 3, 4: 4}, {1: 2, 2: 4, 3: 4, 4: 1}, {1: 2, 2: 4, 3: 4, 4: 2}, {1: 2, 2: 4, 3: 4, 4: 3}, {1: 2, 2: 4, 3: 4, 4: 4}, {1: 3, 2: 1, 3: 1, 4: 1}, {1: 3, 2: 1, 3: 1, 4: 2}, {1: 3, 2: 1, 3: 1, 4: 3}, {1: 3, 2: 1, 3: 1, 4: 4}, {1: 3, 2: 1, 3: 2, 4: 1}, {1: 3, 2: 1, 3: 2, 4: 2}, {1: 3, 2: 1, 3: 2, 4: 3}, {1: 3, 2: 1, 3: 2, 4: 4}, {1: 3, 2: 1, 3: 3, 4: 1}, {1: 3, 2: 1, 3: 3, 4: 2}, {1: 3, 2: 1, 3: 3, 4: 3}, {1: 3, 2: 1, 3: 3, 4: 4}, {1: 3, 2: 1, 3: 4, 4: 1}, {1: 3, 2: 1, 3: 4, 4: 2}, {1: 3, 2: 1, 3: 4, 4: 3}, {1: 3, 2: 1, 3: 4, 4: 4}, {1: 3, 2: 2, 3: 1, 4: 1}, {1: 3, 2: 2, 3: 1, 4: 2}, {1: 3, 2: 2, 3: 1, 4: 3}, {1: 3, 2: 2, 3: 1, 4: 4}, {1: 3, 2: 2, 3: 2, 4: 1}, {1: 3, 2: 2, 3: 2, 4: 2}, {1: 3, 2: 2, 3: 2, 4: 3}, {1: 3, 2: 2, 3: 2, 4: 4}, {1: 3, 2: 2, 3: 3, 4: 1}, {1: 3, 2: 2, 3: 3, 4: 2}, {1: 3, 2: 2, 3: 3, 4: 3}, {1: 3, 2: 2, 3: 3, 4: 4}, {1: 3, 2: 2, 3: 4, 4: 1}, {1: 3, 2: 2, 3: 4, 4: 2}, {1: 3, 2: 2, 3: 4, 4: 3}, {1: 3, 2: 2, 3: 4, 4: 4}, {1: 3, 2: 3, 3: 1, 4: 1}, {1: 3, 2: 3, 3: 1, 4: 2}, {1: 3, 2: 3, 3: 1, 4: 3}, {1: 3, 2: 3, 3: 1, 4: 4}, {1: 3, 2: 3, 3: 2, 4: 1}, {1: 3, 2: 3, 3: 2, 4: 2}, {1: 3, 2: 3, 3: 2, 4: 3}, {1: 3, 2: 3, 3: 2, 4: 4}, {1: 3, 2: 3, 3: 3, 4: 1}, {1: 3, 2: 3, 3: 3, 4: 2}, {1: 3, 2: 3, 3: 3, 4: 3}, {1: 3, 2: 3, 3: 3, 4: 4}, {1: 3, 2: 3, 3: 4, 4: 1}, {1: 3, 2: 3, 3: 4, 4: 2}, {1: 3, 2: 3, 3: 4, 4: 3}, {1: 3, 2: 3, 3: 4, 4: 4}, {1: 3, 2: 4, 3: 1, 4: 1}, {1: 3, 2: 4, 3: 1, 4: 2}, {1: 3, 2: 4, 3: 1, 4: 3}, {1: 3, 2: 4, 3: 1, 4: 4}, {1: 3, 2: 4, 3: 2, 4: 1}, {1: 3, 2: 4, 3: 2, 4: 2}, {1: 3, 2: 4, 3: 2, 4: 3}, {1: 3, 2: 4, 3: 2, 4: 4}, {1: 3, 2: 4, 3: 3, 4: 1}, {1: 3, 2: 4, 3: 3, 4: 2}, {1: 3, 2: 4, 3: 3, 4: 3}, {1: 3, 2: 4, 3: 3, 4: 4}, {1: 3, 2: 4, 3: 4, 4: 1}, {1: 3, 2: 4, 3: 4, 4: 2}, {1: 3, 2: 4, 3: 4, 4: 3}, {1: 3, 2: 4, 3: 4, 4: 4}, {1: 4, 2: 1, 3: 1, 4: 1}, {1: 4, 2: 1, 3: 1, 4: 2}, {1: 4, 2: 1, 3: 1, 4: 3}, {1: 4, 2: 1, 3: 1, 4: 4}, {1: 4, 2: 1, 3: 2, 4: 1}, {1: 4, 2: 1, 3: 2, 4: 2}, {1: 4, 2: 1, 3: 2, 4: 3}, {1: 4, 2: 1, 3: 2, 4: 4}, {1: 4, 2: 1, 3: 3, 4: 1}, {1: 4, 2: 1, 3: 3, 4: 2}, {1: 4, 2: 1, 3: 3, 4: 3}, {1: 4, 2: 1, 3: 3, 4: 4}, {1: 4, 2: 1, 3: 4, 4: 1}, {1: 4, 2: 1, 3: 4, 4: 2}, {1: 4, 2: 1, 3: 4, 4: 3}, {1: 4, 2: 1, 3: 4, 4: 4}, {1: 4, 2: 2, 3: 1, 4: 1}, {1: 4, 2: 2, 3: 1, 4: 2}, {1: 4, 2: 2, 3: 1, 4: 3}, {1: 4, 2: 2, 3: 1, 4: 4}, {1: 4, 2: 2, 3: 2, 4: 1}, {1: 4, 2: 2, 3: 2, 4: 2}, {1: 4, 2: 2, 3: 2, 4: 3}, {1: 4, 2: 2, 3: 2, 4: 4}, {1: 4, 2: 2, 3: 3, 4: 1}, {1: 4, 2: 2, 3: 3, 4: 2}, {1: 4, 2: 2, 3: 3, 4: 3}, {1: 4, 2: 2, 3: 3, 4: 4}, {1: 4, 2: 2, 3: 4, 4: 1}, {1: 4, 2: 2, 3: 4, 4: 2}, {1: 4, 2: 2, 3: 4, 4: 3}, {1: 4, 2: 2, 3: 4, 4: 4}, {1: 4, 2: 3, 3: 1, 4: 1}, {1: 4, 2: 3, 3: 1, 4: 2}, {1: 4, 2: 3, 3: 1, 4: 3}, {1: 4, 2: 3, 3: 1, 4: 4}, {1: 4, 2: 3, 3: 2, 4: 1}, {1: 4, 2: 3, 3: 2, 4: 2}, {1: 4, 2: 3, 3: 2, 4: 3}, {1: 4, 2: 3, 3: 2, 4: 4}, {1: 4, 2: 3, 3: 3, 4: 1}, {1: 4, 2: 3, 3: 3, 4: 2}, {1: 4, 2: 3, 3: 3, 4: 3}, {1: 4, 2: 3, 3: 3, 4: 4}, {1: 4, 2: 3, 3: 4, 4: 1}, {1: 4, 2: 3, 3: 4, 4: 2}, {1: 4, 2: 3, 3: 4, 4: 3}, {1: 4, 2: 3, 3: 4, 4: 4}, {1: 4, 2: 4, 3: 1, 4: 1}, {1: 4, 2: 4, 3: 1, 4: 2}, {1: 4, 2: 4, 3: 1, 4: 3}, {1: 4, 2: 4, 3: 1, 4: 4}, {1: 4, 2: 4, 3: 2, 4: 1}, {1: 4, 2: 4, 3: 2, 4: 2}, {1: 4, 2: 4, 3: 2, 4: 3}, {1: 4, 2: 4, 3: 2, 4: 4}, {1: 4, 2: 4, 3: 3, 4: 1}, {1: 4, 2: 4, 3: 3, 4: 2}, {1: 4, 2: 4, 3: 3, 4: 3}, {1: 4, 2: 4, 3: 3, 4: 4}, {1: 4, 2: 4, 3: 4, 4: 1}, {1: 4, 2: 4, 3: 4, 4: 2}, {1: 4, 2: 4, 3: 4, 4: 3}, {1: 4, 2: 4, 3: 4, 4: 4}]\n",
      "CPU times: user 16 ms, sys: 0 ns, total: 16 ms\n",
      "Wall time: 3.21 ms\n"
     ]
    }
   ],
   "source": [
    "%%time\n",
    "F = all_func(4)\n",
    "print(F)\n",
    "# Pour n=5 il faudrait 30secondes environ"
   ]
  },
  {
   "cell_type": "markdown",
   "metadata": {},
   "source": [
    "## 4) Fonctions symétrisables\n",
    "\n",
    "Déterminer par force brute le nombre de fonctions $f \\in \\mathcal{F}_n$ qui sont symétrisables pour $\\circ$ pour  $n \\leq 5$. Sauriez-vous conjecturer la formule générale ? (et la démontrer !)"
   ]
  },
  {
   "cell_type": "code",
   "execution_count": 22,
   "metadata": {},
   "outputs": [
    {
     "ename": "TypeError",
     "evalue": "unsupported operand parent(s) for *: '<class 'dict'>' and 'Integer Ring'",
     "output_type": "error",
     "traceback": [
      "\u001b[0;31m---------------------------------------------------------------------------\u001b[0m",
      "\u001b[0;31mTypeError\u001b[0m                                 Traceback (most recent call last)",
      "\u001b[0;32m<ipython-input-22-57cb7c20e0cd>\u001b[0m in \u001b[0;36m<module>\u001b[0;34m()\u001b[0m\n\u001b[1;32m     10\u001b[0m     \u001b[0;32mreturn\u001b[0m \u001b[0mcompteur\u001b[0m\u001b[0;34m\u001b[0m\u001b[0;34m\u001b[0m\u001b[0m\n\u001b[1;32m     11\u001b[0m \u001b[0;34m\u001b[0m\u001b[0m\n\u001b[0;32m---> 12\u001b[0;31m \u001b[0msymetrie\u001b[0m\u001b[0;34m(\u001b[0m\u001b[0mInteger\u001b[0m\u001b[0;34m(\u001b[0m\u001b[0;36m2\u001b[0m\u001b[0;34m)\u001b[0m\u001b[0;34m)\u001b[0m\u001b[0;34m\u001b[0m\u001b[0;34m\u001b[0m\u001b[0m\n\u001b[0m\u001b[1;32m     13\u001b[0m \u001b[0;34m\u001b[0m\u001b[0m\n",
      "\u001b[0;32m<ipython-input-22-57cb7c20e0cd>\u001b[0m in \u001b[0;36msymetrie\u001b[0;34m(n)\u001b[0m\n\u001b[1;32m      5\u001b[0m     \u001b[0mF\u001b[0m\u001b[0;34m=\u001b[0m \u001b[0mall_func\u001b[0m\u001b[0;34m(\u001b[0m\u001b[0mn\u001b[0m\u001b[0;34m)\u001b[0m\u001b[0;34m\u001b[0m\u001b[0;34m\u001b[0m\u001b[0m\n\u001b[1;32m      6\u001b[0m     \u001b[0;32mfor\u001b[0m \u001b[0my\u001b[0m \u001b[0;32min\u001b[0m \u001b[0;34m(\u001b[0m\u001b[0mellipsis_range\u001b[0m\u001b[0;34m(\u001b[0m\u001b[0mInteger\u001b[0m\u001b[0;34m(\u001b[0m\u001b[0;36m1\u001b[0m\u001b[0;34m)\u001b[0m\u001b[0;34m,\u001b[0m\u001b[0mEllipsis\u001b[0m\u001b[0;34m,\u001b[0m\u001b[0mn\u001b[0m\u001b[0;34m)\u001b[0m\u001b[0;34m)\u001b[0m\u001b[0;34m:\u001b[0m\u001b[0;34m\u001b[0m\u001b[0;34m\u001b[0m\u001b[0m\n\u001b[0;32m----> 7\u001b[0;31m         \u001b[0;32mif\u001b[0m\u001b[0;34m(\u001b[0m\u001b[0mF\u001b[0m\u001b[0;34m[\u001b[0m\u001b[0mn\u001b[0m\u001b[0;34m]\u001b[0m \u001b[0;34m*\u001b[0m \u001b[0ma\u001b[0m \u001b[0;34m==\u001b[0m \u001b[0ma\u001b[0m \u001b[0;34m)\u001b[0m\u001b[0;34m:\u001b[0m\u001b[0;34m\u001b[0m\u001b[0;34m\u001b[0m\u001b[0m\n\u001b[0m\u001b[1;32m      8\u001b[0m             \u001b[0;32mif\u001b[0m\u001b[0;34m(\u001b[0m\u001b[0ma\u001b[0m \u001b[0;34m*\u001b[0m \u001b[0mF\u001b[0m\u001b[0;34m[\u001b[0m\u001b[0mn\u001b[0m\u001b[0;34m]\u001b[0m \u001b[0;34m==\u001b[0m \u001b[0ma\u001b[0m\u001b[0;34m)\u001b[0m\u001b[0;34m:\u001b[0m\u001b[0;34m\u001b[0m\u001b[0;34m\u001b[0m\u001b[0m\n\u001b[1;32m      9\u001b[0m                 \u001b[0mcompteur\u001b[0m\u001b[0;34m+=\u001b[0m\u001b[0mInteger\u001b[0m\u001b[0;34m(\u001b[0m\u001b[0;36m1\u001b[0m\u001b[0;34m)\u001b[0m\u001b[0;34m\u001b[0m\u001b[0;34m\u001b[0m\u001b[0m\n",
      "\u001b[0;32m/opt/sagemath-9.0/local/lib/python3.7/site-packages/sage/rings/integer.pyx\u001b[0m in \u001b[0;36msage.rings.integer.Integer.__mul__ (build/cythonized/sage/rings/integer.c:13750)\u001b[0;34m()\u001b[0m\n\u001b[1;32m   1986\u001b[0m             \u001b[0;32mreturn\u001b[0m \u001b[0my\u001b[0m\u001b[0;34m\u001b[0m\u001b[0;34m\u001b[0m\u001b[0m\n\u001b[1;32m   1987\u001b[0m \u001b[0;34m\u001b[0m\u001b[0m\n\u001b[0;32m-> 1988\u001b[0;31m         \u001b[0;32mreturn\u001b[0m \u001b[0mcoercion_model\u001b[0m\u001b[0;34m.\u001b[0m\u001b[0mbin_op\u001b[0m\u001b[0;34m(\u001b[0m\u001b[0mleft\u001b[0m\u001b[0;34m,\u001b[0m \u001b[0mright\u001b[0m\u001b[0;34m,\u001b[0m \u001b[0moperator\u001b[0m\u001b[0;34m.\u001b[0m\u001b[0mmul\u001b[0m\u001b[0;34m)\u001b[0m\u001b[0;34m\u001b[0m\u001b[0;34m\u001b[0m\u001b[0m\n\u001b[0m\u001b[1;32m   1989\u001b[0m \u001b[0;34m\u001b[0m\u001b[0m\n\u001b[1;32m   1990\u001b[0m     \u001b[0mcpdef\u001b[0m \u001b[0m_mul_\u001b[0m\u001b[0;34m(\u001b[0m\u001b[0mself\u001b[0m\u001b[0;34m,\u001b[0m \u001b[0mright\u001b[0m\u001b[0;34m)\u001b[0m\u001b[0;34m:\u001b[0m\u001b[0;34m\u001b[0m\u001b[0;34m\u001b[0m\u001b[0m\n",
      "\u001b[0;32m/opt/sagemath-9.0/local/lib/python3.7/site-packages/sage/structure/coerce.pyx\u001b[0m in \u001b[0;36msage.structure.coerce.CoercionModel.bin_op (build/cythonized/sage/structure/coerce.c:11180)\u001b[0;34m()\u001b[0m\n\u001b[1;32m   1253\u001b[0m         \u001b[0;31m# We should really include the underlying error.\u001b[0m\u001b[0;34m\u001b[0m\u001b[0;34m\u001b[0m\u001b[0;34m\u001b[0m\u001b[0m\n\u001b[1;32m   1254\u001b[0m         \u001b[0;31m# This causes so much headache.\u001b[0m\u001b[0;34m\u001b[0m\u001b[0;34m\u001b[0m\u001b[0;34m\u001b[0m\u001b[0m\n\u001b[0;32m-> 1255\u001b[0;31m         \u001b[0;32mraise\u001b[0m \u001b[0mbin_op_exception\u001b[0m\u001b[0;34m(\u001b[0m\u001b[0mop\u001b[0m\u001b[0;34m,\u001b[0m \u001b[0mx\u001b[0m\u001b[0;34m,\u001b[0m \u001b[0my\u001b[0m\u001b[0;34m)\u001b[0m\u001b[0;34m\u001b[0m\u001b[0;34m\u001b[0m\u001b[0m\n\u001b[0m\u001b[1;32m   1256\u001b[0m \u001b[0;34m\u001b[0m\u001b[0m\n\u001b[1;32m   1257\u001b[0m     \u001b[0mcpdef\u001b[0m \u001b[0mcanonical_coercion\u001b[0m\u001b[0;34m(\u001b[0m\u001b[0mself\u001b[0m\u001b[0;34m,\u001b[0m \u001b[0mx\u001b[0m\u001b[0;34m,\u001b[0m \u001b[0my\u001b[0m\u001b[0;34m)\u001b[0m\u001b[0;34m:\u001b[0m\u001b[0;34m\u001b[0m\u001b[0;34m\u001b[0m\u001b[0m\n",
      "\u001b[0;31mTypeError\u001b[0m: unsupported operand parent(s) for *: '<class 'dict'>' and 'Integer Ring'"
     ]
    }
   ],
   "source": [
    "# Symétrisable si a * e = a et e * a = a\n",
    "def symetrie(n):\n",
    "    a = 1\n",
    "    compteur = 0\n",
    "    F= all_func(n)\n",
    "    for y in [1..n]:\n",
    "        if(F[n] * a == a ):\n",
    "            if(a * F[n] == a):\n",
    "                compteur+=1\n",
    "    return compteur\n",
    "\n",
    "symetrie(2)"
   ]
  },
  {
   "cell_type": "markdown",
   "metadata": {},
   "source": [
    "## 5) Fonctions qui commutent\n",
    "\n",
    "Déterminer le nombre de paires $(f,g) \\in \\mathcal{F}_n^2$ de fonctions qui commutent pour $n \\leq 5$ (30 s sur mon PC). Sauriez-vous dire combien il y en a pour $n = 6$ ? (vous pouvez <a href=\"https://oeis.org/\">vous aider des internets</a> si vous séchez)"
   ]
  },
  {
   "cell_type": "code",
   "execution_count": 23,
   "metadata": {},
   "outputs": [
    {
     "ename": "TypeError",
     "evalue": "unsupported operand type(s) for *: 'dict' and 'dict'",
     "output_type": "error",
     "traceback": [
      "\u001b[0;31m---------------------------------------------------------------------------\u001b[0m",
      "\u001b[0;31mTypeError\u001b[0m                                 Traceback (most recent call last)",
      "\u001b[0;32m<ipython-input-23-7a950fd1444f>\u001b[0m in \u001b[0;36m<module>\u001b[0;34m()\u001b[0m\n\u001b[1;32m      8\u001b[0m     \u001b[0;32mreturn\u001b[0m \u001b[0mcompteur\u001b[0m\u001b[0;34m\u001b[0m\u001b[0;34m\u001b[0m\u001b[0m\n\u001b[1;32m      9\u001b[0m \u001b[0;34m\u001b[0m\u001b[0m\n\u001b[0;32m---> 10\u001b[0;31m \u001b[0mcommutativité\u001b[0m\u001b[0;34m(\u001b[0m\u001b[0mInteger\u001b[0m\u001b[0;34m(\u001b[0m\u001b[0;36m5\u001b[0m\u001b[0;34m)\u001b[0m\u001b[0;34m)\u001b[0m\u001b[0;34m\u001b[0m\u001b[0;34m\u001b[0m\u001b[0m\n\u001b[0m",
      "\u001b[0;32m<ipython-input-23-7a950fd1444f>\u001b[0m in \u001b[0;36mcommutativité\u001b[0;34m(n)\u001b[0m\n\u001b[1;32m      4\u001b[0m     \u001b[0mF\u001b[0m\u001b[0;34m=\u001b[0m \u001b[0mall_func\u001b[0m\u001b[0;34m(\u001b[0m\u001b[0mn\u001b[0m\u001b[0;34m)\u001b[0m\u001b[0;34m\u001b[0m\u001b[0;34m\u001b[0m\u001b[0m\n\u001b[1;32m      5\u001b[0m     \u001b[0;32mfor\u001b[0m \u001b[0my\u001b[0m \u001b[0;32min\u001b[0m \u001b[0;34m(\u001b[0m\u001b[0mellipsis_range\u001b[0m\u001b[0;34m(\u001b[0m\u001b[0mInteger\u001b[0m\u001b[0;34m(\u001b[0m\u001b[0;36m1\u001b[0m\u001b[0;34m)\u001b[0m\u001b[0;34m,\u001b[0m\u001b[0mEllipsis\u001b[0m\u001b[0;34m,\u001b[0m\u001b[0mn\u001b[0m\u001b[0;34m-\u001b[0m\u001b[0mInteger\u001b[0m\u001b[0;34m(\u001b[0m\u001b[0;36m1\u001b[0m\u001b[0;34m)\u001b[0m\u001b[0;34m)\u001b[0m\u001b[0;34m)\u001b[0m\u001b[0;34m:\u001b[0m\u001b[0;34m\u001b[0m\u001b[0;34m\u001b[0m\u001b[0m\n\u001b[0;32m----> 6\u001b[0;31m         \u001b[0;32mif\u001b[0m\u001b[0;34m(\u001b[0m\u001b[0mF\u001b[0m\u001b[0;34m[\u001b[0m\u001b[0mn\u001b[0m\u001b[0;34m]\u001b[0m \u001b[0;34m*\u001b[0m \u001b[0mF\u001b[0m\u001b[0;34m[\u001b[0m\u001b[0mn\u001b[0m\u001b[0;34m+\u001b[0m\u001b[0mInteger\u001b[0m\u001b[0;34m(\u001b[0m\u001b[0;36m1\u001b[0m\u001b[0;34m)\u001b[0m\u001b[0;34m]\u001b[0m \u001b[0;34m==\u001b[0m \u001b[0mF\u001b[0m\u001b[0;34m[\u001b[0m\u001b[0mn\u001b[0m\u001b[0;34m+\u001b[0m\u001b[0mInteger\u001b[0m\u001b[0;34m(\u001b[0m\u001b[0;36m1\u001b[0m\u001b[0;34m)\u001b[0m\u001b[0;34m]\u001b[0m \u001b[0;34m*\u001b[0m \u001b[0mF\u001b[0m\u001b[0;34m[\u001b[0m\u001b[0mn\u001b[0m\u001b[0;34m]\u001b[0m \u001b[0;34m)\u001b[0m\u001b[0;34m:\u001b[0m\u001b[0;34m\u001b[0m\u001b[0;34m\u001b[0m\u001b[0m\n\u001b[0m\u001b[1;32m      7\u001b[0m             \u001b[0mcompteur\u001b[0m\u001b[0;34m+=\u001b[0m\u001b[0mInteger\u001b[0m\u001b[0;34m(\u001b[0m\u001b[0;36m1\u001b[0m\u001b[0;34m)\u001b[0m\u001b[0;34m\u001b[0m\u001b[0;34m\u001b[0m\u001b[0m\n\u001b[1;32m      8\u001b[0m     \u001b[0;32mreturn\u001b[0m \u001b[0mcompteur\u001b[0m\u001b[0;34m\u001b[0m\u001b[0;34m\u001b[0m\u001b[0m\n",
      "\u001b[0;31mTypeError\u001b[0m: unsupported operand type(s) for *: 'dict' and 'dict'"
     ]
    }
   ],
   "source": [
    "# commutativité a * b = b * a\n",
    "\n",
    "def commutativité(n):\n",
    "    F= all_func(n)\n",
    "    for y in [1..n-1]:\n",
    "        if(F[n] * F[n+1] == F[n+1] * F[n] ):\n",
    "            compteur+=1\n",
    "    return compteur\n",
    "    \n",
    "commutativité(5)"
   ]
  },
  {
   "cell_type": "markdown",
   "metadata": {},
   "source": [
    "## 6) Orbites\n",
    "\n",
    "On définit l'*orbite* d'un élément $x \\in [\\![1,n]\\!]$ par une fonction $f \\in \\mathcal{F}_n$ comme étant l'ensemble des itérés de la fonction sur cet élément:\n",
    "\n",
    "$$ \\mathrm{Orb}_f(x) = \\{ x, \\, f(x), \\, f^2(x), \\, f^3(x), \\, \\ldots \\, \\} $$\n",
    "\n",
    "Définir une fonction **orb(f,x)** renvoyant l'ensemble de ces valeurs sous forme de liste. Attention: l'ensemble d'arrivée de $f$ étant fini, la suite des valeurs $(f^n(x))$ finira forcément par boucler; assurez-vous de le détecter et de vous arrêter à ce moment."
   ]
  },
  {
   "cell_type": "code",
   "execution_count": null,
   "metadata": {
    "collapsed": true
   },
   "outputs": [],
   "source": [
    "def orb(f,x):\n",
    "    \n",
    "    res = []\n",
    "    for y in [1..n]:\n",
    "        if(f==n-1):\n",
    "            return res\n",
    "        else res.append(x)\n",
    "    \n",
    "    return res"
   ]
  },
  {
   "cell_type": "markdown",
   "metadata": {},
   "source": [
    "Quelle est la taille moyenne des orbites des fonctions $f \\in \\mathcal{F}_7$ ? i.e. évaluez\n",
    "$$ \\frac{1}{|\\mathcal{F}_7|} \\sum_{f \\in \\mathcal{F}_7} \\frac{1}{7} \\sum_{x = 1}^7 | \\mathrm{Orb}_f(x) | $$"
   ]
  },
  {
   "cell_type": "code",
   "execution_count": null,
   "metadata": {},
   "outputs": [],
   "source": []
  }
 ],
 "metadata": {
  "kernelspec": {
   "display_name": "SageMath 9.0",
   "language": "sage",
   "name": "sagemath"
  },
  "language_info": {
   "codemirror_mode": {
    "name": "ipython",
    "version": 3
   },
   "file_extension": ".py",
   "mimetype": "text/x-python",
   "name": "python",
   "nbconvert_exporter": "python",
   "pygments_lexer": "ipython3",
   "version": "3.7.3"
  }
 },
 "nbformat": 4,
 "nbformat_minor": 2
}
