{
 "cells": [
  {
   "cell_type": "markdown",
   "metadata": {},
   "source": [
    "# Sénéchal Pierre | Mariage Augustin"
   ]
  },
  {
   "cell_type": "code",
   "execution_count": 2,
   "metadata": {},
   "outputs": [
    {
     "data": {
      "text/plain": [
       "[[0, 0, 0],\n",
       " [1, 0, 0],\n",
       " [0, 1, 0],\n",
       " [1, 1, 0],\n",
       " [0, 0, 1],\n",
       " [1, 0, 1],\n",
       " [0, 1, 1],\n",
       " [1, 1, 1]]"
      ]
     },
     "execution_count": 2,
     "metadata": {},
     "output_type": "execute_result"
    }
   ],
   "source": [
    "# Question 1\n",
    "\n",
    "# Méthode 1\n",
    "def suites0(n):\n",
    "    \n",
    "    res=[]\n",
    "    res2=[]\n",
    "    \n",
    "    for i in range (0,2^n):\n",
    "        for j in range (0,n):\n",
    "            res2.append((0))\n",
    "        res.append(res2)\n",
    "        res2=[]    \n",
    "        \n",
    "    for i in range (0,2^n):\n",
    "        res[i][0]+=i\n",
    "        for j in range (0,n-1):\n",
    "            while(res[i][j]>=2):\n",
    "                res[i][j+1]+=1\n",
    "                res[i][j]=res[i][j]-2\n",
    "    return res\n",
    "\n",
    "suites0(3)"
   ]
  },
  {
   "cell_type": "code",
   "execution_count": 3,
   "metadata": {},
   "outputs": [
    {
     "data": {
      "text/plain": [
       "[[0, 0, 0],\n",
       " [0, 0, 1],\n",
       " [0, 1, 0],\n",
       " [0, 1, 1],\n",
       " [1, 0, 0],\n",
       " [1, 0, 1],\n",
       " [1, 1, 0],\n",
       " [1, 1, 1]]"
      ]
     },
     "execution_count": 3,
     "metadata": {},
     "output_type": "execute_result"
    }
   ],
   "source": [
    "# Méthode 2\n",
    "def suites(n):\n",
    "    \n",
    "    res= []\n",
    "    \n",
    "    if n == 0:\n",
    "        res.append( [] )\n",
    "        \n",
    "    else:\n",
    "        \n",
    "        for y in suites(n-1):\n",
    "            \n",
    "            for z in [0, 1]:\n",
    "                \n",
    "                res.append(y + [z])\n",
    "                \n",
    "    return res\n",
    "    \n",
    "suites(3)   "
   ]
  },
  {
   "cell_type": "code",
   "execution_count": 4,
   "metadata": {},
   "outputs": [
    {
     "data": {
      "text/plain": [
       "[[], [3], [2], [2, 3], [1], [1, 3], [1, 2], [1, 2, 3]]"
      ]
     },
     "execution_count": 4,
     "metadata": {},
     "output_type": "execute_result"
    }
   ],
   "source": [
    "# Question 2\n",
    "\n",
    "def parties(E):\n",
    "    \n",
    "    res = []\n",
    "    \n",
    "    if E == []:\n",
    "    \n",
    "        res.append([])\n",
    "        \n",
    "    else:\n",
    "        \n",
    "        for x in parties(E[:-1]):\n",
    "            \n",
    "            res.append(x)\n",
    "            res.append(x+[E[-1]])\n",
    "            \n",
    "    return res\n",
    "      \n",
    "parties([1,2,3])"
   ]
  },
  {
   "cell_type": "code",
   "execution_count": 5,
   "metadata": {},
   "outputs": [
    {
     "data": {
      "text/plain": [
       "[[], [3], [2], [2, 3], [1], [1, 3], [1, 2], [1, 2, 3]]"
      ]
     },
     "execution_count": 5,
     "metadata": {},
     "output_type": "execute_result"
    }
   ],
   "source": [
    "def partie(f, E) :\n",
    "    \n",
    "    return [E[x] for x in range(len(E)) if f[x]]\n",
    "\n",
    "[partie(f, [1,2,3]) for f in suites(3)]\n",
    "\n",
    "#Il y a un lien avec la question précédente : On ordonne les possibilités et les regroupe sous forme de parties"
   ]
  },
  {
   "cell_type": "code",
   "execution_count": 7,
   "metadata": {},
   "outputs": [
    {
     "data": {
      "text/plain": [
       "[[3, 4], [2, 4], [2, 3], [1, 4], [1, 3], [1, 2]]"
      ]
     },
     "execution_count": 7,
     "metadata": {},
     "output_type": "execute_result"
    }
   ],
   "source": [
    "# Question 3\n",
    "\n",
    "def parties_taille(k, E):\n",
    "    \n",
    "    a = parties(E)\n",
    "    result = []\n",
    "    \n",
    "    for i in a:\n",
    "        \n",
    "        if(len(i) == k):\n",
    "            \n",
    "            result.append(i)\n",
    "            \n",
    "    return result\n",
    "\n",
    "parties_taille(2, [1,2,3,4])\n"
   ]
  },
  {
   "cell_type": "code",
   "execution_count": 11,
   "metadata": {},
   "outputs": [
    {
     "data": {
      "text/plain": [
       "[[0, 0, 0, 0],\n",
       " [0, 0, 0, 1],\n",
       " [0, 0, 1, 0],\n",
       " [0, 0, 1, 1],\n",
       " [0, 1, 0, 0],\n",
       " [0, 1, 0, 1],\n",
       " [0, 1, 1, 0],\n",
       " [0, 1, 1, 1],\n",
       " [1, 0, 0, 0],\n",
       " [1, 0, 0, 1],\n",
       " [1, 0, 1, 0],\n",
       " [1, 0, 1, 1],\n",
       " [1, 1, 0, 0],\n",
       " [1, 1, 0, 1],\n",
       " [1, 1, 1, 0],\n",
       " [1, 1, 1, 1]]"
      ]
     },
     "execution_count": 11,
     "metadata": {},
     "output_type": "execute_result"
    }
   ],
   "source": [
    "# Question 4\n",
    "\n",
    "# a)\n",
    "\n",
    "def liste(n, p):\n",
    "    \n",
    "    res= []\n",
    "    \n",
    "    if p == 0:\n",
    "        res.append( [] )\n",
    "        \n",
    "    else:\n",
    "        \n",
    "        for y in liste(n, p-1):\n",
    "            \n",
    "            for z in [0, 1]:\n",
    "                \n",
    "                res.append(y + [z])\n",
    "                \n",
    "    return res\n",
    "    \n",
    "liste(3, 4)   "
   ]
  },
  {
   "cell_type": "code",
   "execution_count": 15,
   "metadata": {},
   "outputs": [
    {
     "data": {
      "text/plain": [
       "[[0, 0, 0, 0],\n",
       " [1, 0, 0, 0],\n",
       " [0, 1, 0, 0],\n",
       " [1, 1, 0, 0],\n",
       " [0, 0, 1, 0],\n",
       " [1, 0, 1, 0],\n",
       " [0, 1, 1, 0],\n",
       " [1, 1, 1, 0],\n",
       " [0, 0, 0, 1],\n",
       " [1, 0, 0, 1],\n",
       " [0, 1, 0, 1],\n",
       " [1, 1, 0, 1],\n",
       " [0, 0, 1, 1],\n",
       " [1, 0, 1, 1],\n",
       " [0, 1, 1, 1],\n",
       " [1, 1, 1, 1]]"
      ]
     },
     "execution_count": 15,
     "metadata": {},
     "output_type": "execute_result"
    }
   ],
   "source": [
    "# b)\n",
    "\n",
    "def listes(n, p):\n",
    "    \n",
    "    res=[]\n",
    "    res2=[]\n",
    "    \n",
    "    for i in range (0,2^p):\n",
    "        for j in range (0,p):\n",
    "            res2.append((0))\n",
    "        res.append(res2)\n",
    "        res2=[]    \n",
    "        \n",
    "    for i in range (0,2^p):\n",
    "        res[i][0]+=i\n",
    "        for j in range (0,p-1):\n",
    "            while(res[i][j]>=2):\n",
    "                res[i][j+1]+=1\n",
    "                res[i][j]=res[i][j]-2\n",
    "    return res\n",
    "\n",
    "listes(3, 4)"
   ]
  },
  {
   "cell_type": "markdown",
   "metadata": {},
   "source": [
    "Les 2 implémentations ne générent pas les p-uplets dans le même ordre mais au final ça revient au même."
   ]
  },
  {
   "cell_type": "code",
   "execution_count": null,
   "metadata": {},
   "outputs": [],
   "source": []
  }
 ],
 "metadata": {
  "kernelspec": {
   "display_name": "SageMath 9.0",
   "language": "sage",
   "name": "sagemath"
  },
  "language_info": {
   "codemirror_mode": {
    "name": "ipython",
    "version": 3
   },
   "file_extension": ".py",
   "mimetype": "text/x-python",
   "name": "python",
   "nbconvert_exporter": "python",
   "pygments_lexer": "ipython3",
   "version": "3.7.3"
  }
 },
 "nbformat": 4,
 "nbformat_minor": 2
}
