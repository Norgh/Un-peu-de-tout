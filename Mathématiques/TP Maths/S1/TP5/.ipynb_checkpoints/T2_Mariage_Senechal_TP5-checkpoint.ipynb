{
 "cells": [
  {
   "cell_type": "markdown",
   "metadata": {},
   "source": [
    "## TP 5 &ndash; Géométrie des courbes\n",
    "\n",
    "Noms des coéquipiers : <span style=\"color: red\">Sénéchal Mariage</span>\n",
    "\n",
    "On trace facilement des courbes paramétrées avec Sage : voir les commandes `parametric_plot`, `polar_plot` et `parametric_plot3d`.\n",
    "\n",
    "### 1) Premier exemple\n",
    "\n",
    "Voici par exemple une cycloïde, définie par la fonction _vectorielle_ $t \\mapsto M(t) = (t - \\sin t, 1 - \\cos t)$."
   ]
  },
  {
   "cell_type": "code",
   "execution_count": null,
   "metadata": {},
   "outputs": [],
   "source": [
    "var('t')\n",
    "\n",
    "M = vector([t - sin(t), 1 - cos(t)])\n"
   ]
  },
  {
   "cell_type": "code",
   "execution_count": null,
   "metadata": {},
   "outputs": [],
   "source": [
    "parametric_plot( M(t), (t,0,4*pi) )"
   ]
  },
  {
   "cell_type": "markdown",
   "metadata": {},
   "source": [
    "Il s'agit de la courbe décrite par un point sur la circonférence d'une roue qui roule sans glisser sur l'axe des $x$ ; tâchons de visualiser ceci."
   ]
  },
  {
   "cell_type": "code",
   "execution_count": null,
   "metadata": {},
   "outputs": [],
   "source": [
    "def frame(T):\n",
    "\n",
    "    img = Graphics()                                    # initialisation\n",
    "\n",
    "    img += parametric_plot( M, (t,0,4*pi) )             # cycloïde\n",
    "    img += circle((T,1), 1, color=\"black\")              # roue\n",
    "    img += point( M(t=T), size=20 )                     # point marqué\n",
    "    \n",
    "    return img"
   ]
  },
  {
   "cell_type": "code",
   "execution_count": null,
   "metadata": {},
   "outputs": [],
   "source": [
    "frame(2)"
   ]
  },
  {
   "cell_type": "markdown",
   "metadata": {},
   "source": [
    "Voyons le tout en mouvement (attention, l'affichage est long si le pas est petit, mieux vaut l'augmenter pour expérimenter)."
   ]
  },
  {
   "cell_type": "code",
   "execution_count": null,
   "metadata": {},
   "outputs": [],
   "source": [
    "a = animate( [ frame(T) for T in sxrange(0,4*pi,.1) ], xmin=0, xmax=4*pi )"
   ]
  },
  {
   "cell_type": "code",
   "execution_count": null,
   "metadata": {},
   "outputs": [],
   "source": [
    "a.show(delay=5)  # attention : long"
   ]
  },
  {
   "cell_type": "markdown",
   "metadata": {},
   "source": [
    "L'intérêt de travailler avec une expression vectorielle pour définir la courbe est qu'on peut facilement la manipuler : par exemple"
   ]
  },
  {
   "cell_type": "code",
   "execution_count": null,
   "metadata": {},
   "outputs": [],
   "source": [
    "der = diff(M, t)\n",
    "der  # vecteur dérivé"
   ]
  },
  {
   "cell_type": "code",
   "execution_count": null,
   "metadata": {},
   "outputs": [],
   "source": [
    "v = norm(der)  # vitesse scalaire\n",
    "plot(v,(t,0,4*pi))"
   ]
  },
  {
   "cell_type": "code",
   "execution_count": null,
   "metadata": {},
   "outputs": [],
   "source": [
    "def abs_curviligne(u):\n",
    "    return numerical_integral(v,0,u)[0]\n",
    "\n",
    "plot(abs_curviligne,(0,4*pi))  # abscisse curviligne en fonction de t"
   ]
  },
  {
   "cell_type": "code",
   "execution_count": null,
   "metadata": {},
   "outputs": [],
   "source": [
    "2*M + der  # une combinaison linéaire"
   ]
  },
  {
   "cell_type": "markdown",
   "metadata": {},
   "source": [
    "**À faire** :\n",
    "\n",
    "a) Réaliser une animation du repère mobile orthonormé $(\\vec{T},\\vec{N})$ se déplaçant le long de la courbe."
   ]
  },
  {
   "cell_type": "code",
   "execution_count": null,
   "metadata": {},
   "outputs": [],
   "source": [
    "var('t')\n",
    "\n",
    "M = vector([t - sin(t), 1 - cos(t)])\n",
    "der = diff(M, t)\n",
    "v = norm(der) \n",
    "T=der/v\n",
    "N= matrix([[0,-1],[1,0]]) * T\n",
    "\n",
    "def frame(u):\n",
    "\n",
    "    img = parametric_plot(M,(t,0,4*pi))\n",
    "    try:\n",
    "        Mu, Tu, Nu = M(t=u), T(t=u), N(t=u)\n",
    "        img+=point(Mu, color='black', size=20)\n",
    "        img+=arrow(Mu, Mu+Tu, color='black')\n",
    "        img+=arrow(Mu, Mu+Nu, color='black')\n",
    "    except:\n",
    "        pass\n",
    "    return img\n",
    "\n",
    "a=animate([frame(T) for T in sxrange(0,4*pi,.1)], xmin=0,xmax=4*pi,ymin=0,ymax=2.5)\n",
    "show(a, delay=5)"
   ]
  },
  {
   "cell_type": "markdown",
   "metadata": {},
   "source": [
    "b) Même chose mais cette fois-ci en visualisant le déplacement du cercle de courbure le long de la courbe.\n",
    "\n",
    "_Rappel_ : si $c(t)$ désigne la courbure en $M(t)$ et $R(t) = 1/c(t)$ le rayon de courbure, il s'agit du cercle de centre $M(t) + R(t) \\vec{N}(t)$ et de rayon $R(t)$."
   ]
  },
  {
   "cell_type": "code",
   "execution_count": null,
   "metadata": {},
   "outputs": [],
   "source": [
    "derT = diff(T, t)\n",
    "v = norm(derT) \n",
    "c=derT * N / v\n",
    "R=1/c\n",
    "\n",
    "def frame(u):\n",
    "\n",
    "    img = parametric_plot(M,(t,0,4*pi))\n",
    "    try:\n",
    "        Mu, Tu, Nu = M(t=u), T(t=u), N(t=u)\n",
    "        img+=point(Mu, color='black', size=20)\n",
    "        img+=circle(Nu+Ru*Nu, Ru, color='black')\n",
    "    except:\n",
    "        pass\n",
    "    return img\n",
    "frame(2)\n",
    "a = animate( [ frame(T) for T in sxrange(0,4*pi,.1) ], xmin=0, xmax=4*pi,ymax=10 )\n",
    "a.show(delay=5)"
   ]
  },
  {
   "cell_type": "markdown",
   "metadata": {},
   "source": [
    "### 2) Un autre exemple\n",
    "\n",
    "Reprendre l'exercice 1 en remplaçant la cycloïde par une _courbe plane en coordonées cartésiennes_ de votre choix. Si vous êtes en manque d'inspiration, vous pouvez explorer ce qu'on trouve sur le site [MathCurve](https://mathcurve.com/courbes2d/courbes2d.shtml).\n",
    "\n",
    "Précisez bien (dans une cellule texte) quelle est la courbe choisie, les équations paramétriques et l'intervalle d'étude."
   ]
  },
  {
   "cell_type": "markdown",
   "metadata": {},
   "source": [
    "Courbe : Kappa  \n",
    "Eq cartésienne : y= +-x^2/sqrt(a^2-x^2)  \n",
    "Eq paramétriques  \n",
    "x= +- a / cht  \n",
    "y= +- a / cht sht  \n",
    "Intervalle d'étude : [-4,4]  (uniquement partie de droite, mais gauche est symétrique)"
   ]
  },
  {
   "cell_type": "markdown",
   "metadata": {},
   "source": [
    "a) Repère mobile"
   ]
  },
  {
   "cell_type": "code",
   "execution_count": null,
   "metadata": {},
   "outputs": [],
   "source": [
    "var('t')\n",
    "var('a')\n",
    "a=1\n",
    "vecteurM = vector([x^2/sqrt(a^2-x^2) , -(x^2/sqrt(a^2-x^2))])\n",
    "der2 = diff(vecteurM, t)\n",
    "v2 = norm(der2) \n",
    "T2 = der2/v2\n",
    "N2= matrix([[0,-1],[1,0]]) * T2\n",
    "def frame(u):\n",
    "\n",
    "    img = parametric_plot(vecteurM,(t,-4,4))\n",
    "    try:\n",
    "        Mu, Tu, Nu = vecteurM(t=u), T2(t=u), N2(t=u)\n",
    "        img+=point(Mu, color='black', size=20)\n",
    "        img+=arrow(Mu, Mu+Tu, color='black')\n",
    "        img+=arrow(Mu, Mu+Nu, color='black')\n",
    "    except:\n",
    "        pass\n",
    "    return img\n",
    "\n",
    "a=animate([frame(T2) for T2 in sxrange(-4,4,.1)])\n",
    "show(a, delay=5)"
   ]
  },
  {
   "cell_type": "markdown",
   "metadata": {},
   "source": [
    "b) Cercle de courbure"
   ]
  },
  {
   "cell_type": "code",
   "execution_count": null,
   "metadata": {},
   "outputs": [],
   "source": [
    "var('t')\n",
    "vecteurM = vector([x^2/sqrt(a^2-x^2) , -(x^2/sqrt(a^2-x^2))])\n",
    "der2 = diff(vecteurM, t)\n",
    "v2 = norm(der2) \n",
    "T2 = der2/v2\n",
    "N2= matrix([[0,-1],[1,0]]) * T2\n",
    "def frame(u):\n",
    "\n",
    "    img = parametric_plot(vecteurM,(t,-4,4))\n",
    "    try:\n",
    "        Mu, Tu, Nu = vecteurM(t=u), T2(t=u), N2(t=u)\n",
    "        img+=point(Mu, color='black', size=20)\n",
    "        img+=circle(Mu+Ru*Nu, Ru, color='black')\n",
    "    except:\n",
    "        pass\n",
    "    return img\n",
    "\n",
    "a=animate([frame(T2) for T2 in sxrange(-4,4,.1)])\n",
    "show(a, delay=5)"
   ]
  },
  {
   "cell_type": "markdown",
   "metadata": {},
   "source": [
    "### 3) Une courbe polaire\n",
    "\n",
    "Reprendre l'exercice 2, mais cette fois avec une _courbe plane en coordonnées polaires_."
   ]
  },
  {
   "cell_type": "markdown",
   "metadata": {},
   "source": [
    "Eq polaire : 1 - 2 * sin(t)  \n",
    "Intervalle d'étude : [-4,4]"
   ]
  },
  {
   "cell_type": "markdown",
   "metadata": {},
   "source": [
    "a) Repère mobile"
   ]
  },
  {
   "cell_type": "code",
   "execution_count": null,
   "metadata": {},
   "outputs": [],
   "source": [
    "var('t')\n",
    "M3 = 1 - 2 * sin(t)\n",
    "vecteurM3 = M3 * vector([cos(t), sin(t)])\n",
    "der3 = diff(vecteurM3, t)\n",
    "v3 = norm(der3) \n",
    "T3 = der3/v3\n",
    "N3 = matrix([[0,-1],[1,0]]) * T3\n",
    "\n",
    "def frame(u):\n",
    "\n",
    "    img = polar_plot(M3,(t,-4,4))\n",
    "    try:\n",
    "        Mu, Tu, Nu = vecteurM3(t=u), T3(t=u), N3(t=u)\n",
    "        img+=point(Mu, color='black', size=20)\n",
    "        img+=arrow(Mu, Mu+Tu, color='black')\n",
    "        img+=arrow(Mu, Mu+Nu, color='black')\n",
    "    except:\n",
    "        pass\n",
    "    return img\n",
    "\n",
    "a=animate([frame(T3) for T3 in sxrange(0,4*pi,.1)], xmin=-4,xmax=4,ymin=-5,ymax=2.5)\n",
    "show(a, delay=5)"
   ]
  },
  {
   "cell_type": "markdown",
   "metadata": {},
   "source": [
    "b) Cercle de courbure"
   ]
  },
  {
   "cell_type": "code",
   "execution_count": null,
   "metadata": {},
   "outputs": [],
   "source": [
    "var('t')\n",
    "M3 = 1 - 2 * sin(t)\n",
    "vecteurM3 = M3 * vector([cos(t), sin(t)])\n",
    "der3 = diff(vecteurM3, t)\n",
    "v3 = norm(der3) \n",
    "T3 = der3/v3\n",
    "N3 = matrix([[0,-1],[1,0]]) * T3"
   ]
  },
  {
   "cell_type": "code",
   "execution_count": null,
   "metadata": {},
   "outputs": [],
   "source": [
    "derT3 = diff(T3, t)\n",
    "v3 = norm(derT3) \n",
    "c3 = derT3 * N3 / v3\n",
    "R3 = 1/c3\n",
    "\n",
    "def frame(u):\n",
    "\n",
    "    img = polar_plot(M3,(t,-4,4))\n",
    "    try:\n",
    "        Mu, Tu, Nu = vecteurM3(t=u), T3(t=u), N3(t=u)\n",
    "        img+=point(Mu, color='black', size=20)\n",
    "        img+=circle(Mu+Ru*Nu, Ru, color='black')\n",
    "    except:\n",
    "        pass\n",
    "    return img\n",
    "frame(2)\n",
    "a = animate( [ frame(T3) for T3 in sxrange(0,4*pi,.1) ], xmin=-4, xmax=4 )\n",
    "a.show(delay=5)"
   ]
  },
  {
   "cell_type": "markdown",
   "metadata": {},
   "source": [
    "Un joli Papillon :  \n",
    "(On voit seulement la partie de droite il faut répéter l'opération à gauche pour l'avoir en entier)"
   ]
  },
  {
   "cell_type": "code",
   "execution_count": null,
   "metadata": {},
   "outputs": [],
   "source": [
    "var('t')\n",
    "M4 = exp(cos(t)-2*cos(4*t)+sin(t/12)^5)\n",
    "vecteurM4 = M4 * vector([cos(t), sin(t)])\n",
    "der4 = diff(vecteurM4, t)\n",
    "v4 = norm(der4) \n",
    "T4 = der4/v4\n",
    "N4= matrix([[0,-1],[1,0]]) * T3\n",
    "derT4 = diff(T4, t)\n",
    "v4 = norm(derT4) \n",
    "c4 = derT4 * N4 / v4\n",
    "R4 = 1/c4\n",
    "\n",
    "def frame(u):\n",
    "\n",
    "    img = polar_plot(M4,(t,-4,4))\n",
    "    try:\n",
    "        Mu, Tu, Nu = vecteurM4(t=u), T4(t=u), N4(t=u)\n",
    "        img+=point(Mu, color='black', size=20)\n",
    "        img+=circle(Mu+Ru*Nu, Ru, color='black')\n",
    "    except:\n",
    "        pass\n",
    "    return img\n",
    "frame(2)\n",
    "a = animate( [ frame(T4) for T4 in sxrange(-5*pi,5*pi,.1) ], xmin=-5*pi, xmax=5*pi )\n",
    "a.show(delay=5)"
   ]
  }
 ],
 "metadata": {
  "kernelspec": {
   "display_name": "SageMath 9.0",
   "language": "sage",
   "name": "sagemath"
  },
  "language_info": {
   "codemirror_mode": {
    "name": "ipython",
    "version": 3
   },
   "file_extension": ".py",
   "mimetype": "text/x-python",
   "name": "python",
   "nbconvert_exporter": "python",
   "pygments_lexer": "ipython3",
   "version": "3.7.3"
  }
 },
 "nbformat": 4,
 "nbformat_minor": 2
}
