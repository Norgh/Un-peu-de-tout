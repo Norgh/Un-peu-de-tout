{
 "cells": [
  {
   "cell_type": "markdown",
   "metadata": {},
   "source": [
    "TP Maths N°1 CIR2 | Sénéchal Pierre | Mariage Augustin"
   ]
  },
  {
   "cell_type": "code",
   "execution_count": 83,
   "metadata": {},
   "outputs": [
    {
     "name": "stdout",
     "output_type": "stream",
     "text": [
      "20\n"
     ]
    }
   ],
   "source": [
    " # Exercice 1\n",
    "N=0\n",
    "RN=1\n",
    "e=10^-6\n",
    "while abs(RN) >= e:\n",
    "    N += 1\n",
    "    RN /= 2\n",
    "\n",
    "print(N)"
   ]
  },
  {
   "cell_type": "code",
   "execution_count": 109,
   "metadata": {
    "scrolled": true
   },
   "outputs": [
    {
     "data": {
      "image/png": "[encoded data removed]",
      "text/plain": [
       "Graphics object consisting of 2 graphics primitives"
      ]
     },
     "execution_count": 109,
     "metadata": {},
     "output_type": "execute_result"
    }
   ],
   "source": [
    "S = 0.\n",
    "\n",
    "sommes_partielles = [ S ]\n",
    "\n",
    "N = 20\n",
    "\n",
    "for n in [0..N]:\n",
    "    \n",
    "    S += 1/(2^n)\n",
    "    sommes_partielles.append(S)\n",
    "\n",
    "list_plot(sommes_partielles[:20], color='silver') + plot(2, (0,20), color='gold')"
   ]
  },
  {
   "cell_type": "markdown",
   "metadata": {},
   "source": [
    "On obtient une courbe qui tend vers 1.7"
   ]
  },
  {
   "cell_type": "code",
   "execution_count": 7,
   "metadata": {},
   "outputs": [
    {
     "name": "stdout",
     "output_type": "stream",
     "text": [
      "4\n",
      "0.540302579365079\n",
      "0.540302305868140\n"
     ]
    }
   ],
   "source": [
    "# EXERCICE 2\n",
    "\n",
    "N=0\n",
    "RN=1/factorial(2)\n",
    "e=10^-6\n",
    "while abs(RN) > e:\n",
    "    N += 1\n",
    "    RN /= (2*N+1)*(2*N+2)\n",
    "\n",
    "print(N)\n",
    "\n",
    "S= 0.\n",
    "for n in [0..4]:\n",
    "    S += (-1)^n/factorial(2*n)\n",
    "\n",
    "print(S)\n",
    "print(cos(1.))\n"
   ]
  },
  {
   "cell_type": "code",
   "execution_count": null,
   "metadata": {},
   "outputs": [],
   "source": [
    "%%time\n",
    "# EXERCICE 3\n",
    "\n",
    "S= 0.\n",
    "sommes_partielles = [ S ]\n",
    "\n",
    "for n in [1..1000000]:\n",
    "    S += ((-1)^(n+1))/n\n",
    "    sommes_partielles.append(S)\n",
    "\n",
    "print(sommes_partielles[1000000])\n",
    "\n",
    "# 4.34 sec for 10^6 so for 10^12 it would take 10^6*4,34=4340000 seconds = 72333 minutes = 1205 hours = 50 days \n"
   ]
  },
  {
   "cell_type": "code",
   "execution_count": 16,
   "metadata": {
    "scrolled": true
   },
   "outputs": [
    {
     "name": "stdout",
     "output_type": "stream",
     "text": [
      "On cherche à obtenir l'inégalité de l'énoncé.\n",
      "Or, la fonction est positive et décroissante sur R+, on peut donc utiliser le critère intégral de Cauchy.\n",
      "On isole N dans (1/(α-1))(1/(N^α-1)) < ε.\n",
      "Une fois le N, isolé on obtient : N>e^-(ln[ε(α-1)])/(α-1)\n",
      "Mon mois de naissance est : février (soit le 2e mois de l'année)\n"
     ]
    },
    {
     "data": {
      "text/html": [
       "<html><script type=\"math/tex; mode=display\">\\newcommand{\\Bold}[1]{\\mathbf{#1}}\\verb|Voici|\\phantom{\\verb!x!}\\verb|l'estimation|\\phantom{\\verb!x!}\\verb|numerique|\\phantom{\\verb!x!}\\verb|:| 1.51206538650131</script></html>"
      ],
      "text/plain": [
       "\"Voici l'estimation numerique : \" 1.51206538650131"
      ]
     },
     "metadata": {},
     "output_type": "display_data"
    }
   ],
   "source": [
    "# EXERCICE 4\n",
    "\n",
    "#a)\n",
    "print(\"On cherche à obtenir l'inégalité de l'énoncé.\")\n",
    "print(\"Or, la fonction est positive et décroissante sur R+, on peut donc utiliser le critère intégral de Cauchy.\")\n",
    "print(\"On isole N dans (1/(α-1))(1/(N^α-1)) < ε.\")\n",
    "print(\"Une fois le N, isolé on obtient : N>e^-(ln[ε(α-1)])/(α-1)\")\n",
    "\n",
    "#b)\n",
    "print(\"Mon mois de naissance est : février (soit le 2e mois de l'année)\")\n",
    "C = 0\n",
    "for n in range (1,1000):\n",
    "    C += 1 / (n^(2 + (2/12)))\n",
    "show(\"Voici l'estimation numerique : \" , numerical_approx(C))"
   ]
  }
 ],
 "metadata": {
  "kernelspec": {
   "display_name": "SageMath 9.0",
   "language": "sage",
   "name": "sagemath"
  }
 },
 "nbformat": 4,
 "nbformat_minor": 2
}
