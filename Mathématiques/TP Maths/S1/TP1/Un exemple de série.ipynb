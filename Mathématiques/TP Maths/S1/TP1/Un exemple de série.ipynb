{
 "cells": [
  {
   "cell_type": "markdown",
   "metadata": {},
   "source": [
    "# Un exemple de série\n",
    "\n",
    "Bienvenue dans cette feuille de calcul Jupyter, qui va nous permettre d'explorer numériquement la convergence de la série\n",
    "$$ \\sum_{n \\geq 1} \\frac{1}{n(n+1)}. $$\n",
    "Notez que cette cellule contient du _Markdown_ et du $\\LaTeX$, n'hésitez pas à double-cliquer dessus pour l'éditer.\n",
    "\n",
    "## Calcul numérique de sommes partielles\n",
    "\n",
    "Il est facile de calculer une somme partielle de la série\n",
    "$$ S_N = \\sum_{n = 1}^N \\frac{1}{n(n+1)} $$\n",
    "à l'aide d'une boucle."
   ]
  },
  {
   "cell_type": "code",
   "execution_count": 2,
   "metadata": {},
   "outputs": [
    {
     "data": {
      "text/plain": [
       "0.990099009900990"
      ]
     },
     "execution_count": 2,
     "metadata": {},
     "output_type": "execute_result"
    }
   ],
   "source": [
    "S = 0.  # attention de bien travailler en flottants et non en fraction exactes\n",
    "\n",
    "for n in [1..100]:\n",
    "    \n",
    "    S += 1/n/(n+1)\n",
    "    \n",
    "S  # S_100"
   ]
  },
  {
   "cell_type": "markdown",
   "metadata": {},
   "source": [
    "Si la série converge, il s'agit vraisemblablement d'une bonne approximation de sa somme. Mais:\n",
    "\n",
    "- à quel point est-elle bonne ? que peut-on dire sur l'erreur commise ?\n",
    "\n",
    "ou, si on renverse la question\n",
    "\n",
    "- est-ce que 100 termes sont suffisants pour avoir une bonne approximation ? est-ce que c'est trop ?\n",
    "\n",
    "## Affichage des sommes partielles\n",
    "\n",
    "Pour y voir plus clair, observons les premiers termes de la suite des sommes partielles que nous stockons dans une liste:"
   ]
  },
  {
   "cell_type": "code",
   "execution_count": 30,
   "metadata": {},
   "outputs": [
    {
     "data": {
      "image/png": "[encoded data removed]",
      "text/plain": [
       "Graphics object consisting of 2 graphics primitives"
      ]
     },
     "execution_count": 30,
     "metadata": {},
     "output_type": "execute_result"
    }
   ],
   "source": [
    "S = 0.\n",
    "\n",
    "sommes_partielles = [ S ]\n",
    "\n",
    "N = 2000 # on calcule les 2000 premières sommes partielles\n",
    "\n",
    "for n in [1..N]:\n",
    "    \n",
    "    S += 1/n/(n+1)\n",
    "    sommes_partielles.append(S)\n",
    "    \n",
    "# on n'affiche que les 100 premières\n",
    "\n",
    "list_plot(sommes_partielles[:101]) + plot(1, (0,100), color='red')"
   ]
  },
  {
   "cell_type": "markdown",
   "metadata": {},
   "source": [
    "La suite des sommes partielles _semble_ converger vers $1$... Peut-on s'en convaincre ?\n",
    "\n",
    "Il s'agit d'un exemple de série télescopique pour laquelle on montre que\n",
    "$$ S_N = \\sum_{n=1}^N \\frac{1}{n(n+1)} = 1 - \\frac{1}{N+1} \\qquad \\text{(n'est-ce pas ?)}. $$\n",
    "\n",
    "D'une part, cela permet de se convaincre que $S_N \\to 1$ quand $N \\to +\\infty$ et donc d'affirmer que la série qui nous intéresse est convergente de somme $S = 1$; d'autre par on peut écrire cette somme $S$ sous la forme\n",
    "$$ S = S_N + \\frac{1}{N+1}, $$\n",
    "ce qui nous permet d'identifier le reste d'ordre $N$ de la série:\n",
    "$$ R_N = \\frac{1}{N+1}. $$\n",
    "\n",
    "En d'autre termes, si on remplace la somme de la série par sa somme partielle $S_N$, l'erreur commise est $R_N$ et on peut garantir que celle-ci soit petite en prenant $N$ suffisamment grand.\n",
    "\n",
    "## Approximation numérique de la somme à une précision souhaitée\n",
    "\n",
    "Par exemple, si on veut une approximation de la somme $S$ qui soit valable au millième près, on veut\n",
    "$$ |S - S_N| = |R_N| \\leq \\frac{1}{1000}. $$\n",
    "\n",
    "En y regardant bien on voit qu'il suffit pour cela de choisir $N + 1 \\geq 1000$ donc $N \\geq 999$.\n",
    "\n",
    "Vérifions:"
   ]
  },
  {
   "cell_type": "code",
   "execution_count": 21,
   "metadata": {},
   "outputs": [
    {
     "data": {
      "text/plain": [
       "0.998998998999000"
      ]
     },
     "execution_count": 21,
     "metadata": {},
     "output_type": "execute_result"
    }
   ],
   "source": [
    "sommes_partielles[998]  # pas assez loin"
   ]
  },
  {
   "cell_type": "code",
   "execution_count": 22,
   "metadata": {},
   "outputs": [
    {
     "data": {
      "text/plain": [
       "0.999000000000001"
      ]
     },
     "execution_count": 22,
     "metadata": {},
     "output_type": "execute_result"
    }
   ],
   "source": [
    "sommes_partielles[999]  # ok"
   ]
  },
  {
   "cell_type": "code",
   "execution_count": null,
   "metadata": {},
   "outputs": [],
   "source": []
  }
 ],
 "metadata": {
  "kernelspec": {
   "display_name": "SageMath 9.0",
   "language": "sage",
   "name": "sagemath"
  },
  "language_info": {
   "codemirror_mode": {
    "name": "ipython",
    "version": 3
   },
   "file_extension": ".py",
   "mimetype": "text/x-python",
   "name": "python",
   "nbconvert_exporter": "python",
   "pygments_lexer": "ipython3",
   "version": "3.7.3"
  }
 },
 "nbformat": 4,
 "nbformat_minor": 2
}
